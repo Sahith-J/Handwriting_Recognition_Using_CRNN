{
  "metadata": {
    "kernelspec": {
      "display_name": "Python 3",
      "name": "python3"
    },
    "language_info": {
      "name": "python",
      "version": "3.7.6",
      "mimetype": "text/x-python",
      "codemirror_mode": {
        "name": "ipython",
        "version": 3
      },
      "pygments_lexer": "ipython3",
      "nbconvert_exporter": "python",
      "file_extension": ".py"
    },
    "kaggle": {
      "accelerator": "gpu",
      "dataSources": [
        {
          "sourceId": 1400106,
          "sourceType": "datasetVersion",
          "datasetId": 818027
        }
      ],
      "dockerImageVersionId": 29994,
      "isInternetEnabled": false,
      "language": "python",
      "sourceType": "notebook",
      "isGpuEnabled": true
    },
    "colab": {
      "provenance": []
    },
    "accelerator": "TPU"
  },
  "nbformat_minor": 0,
  "nbformat": 4,
  "cells": [
    {
      "source": [
        "\n",
        "# IMPORTANT: RUN THIS CELL IN ORDER TO IMPORT YOUR KAGGLE DATA SOURCES\n",
        "# TO THE CORRECT LOCATION (/kaggle/input) IN YOUR NOTEBOOK,\n",
        "# THEN FEEL FREE TO DELETE THIS CELL.\n",
        "# NOTE: THIS NOTEBOOK ENVIRONMENT DIFFERS FROM KAGGLE'S PYTHON\n",
        "# ENVIRONMENT SO THERE MAY BE MISSING LIBRARIES USED BY YOUR\n",
        "# NOTEBOOK.\n",
        "\n",
        "import os\n",
        "import sys\n",
        "from tempfile import NamedTemporaryFile\n",
        "from urllib.request import urlopen\n",
        "from urllib.parse import unquote, urlparse\n",
        "from urllib.error import HTTPError\n",
        "from zipfile import ZipFile\n",
        "import tarfile\n",
        "import shutil\n",
        "\n",
        "CHUNK_SIZE = 40960\n",
        "DATA_SOURCE_MAPPING = 'handwriting-recognition:https%3A%2F%2Fstorage.googleapis.com%2Fkaggle-data-sets%2F818027%2F1400106%2Fbundle%2Farchive.zip%3FX-Goog-Algorithm%3DGOOG4-RSA-SHA256%26X-Goog-Credential%3Dgcp-kaggle-com%2540kaggle-161607.iam.gserviceaccount.com%252F20240406%252Fauto%252Fstorage%252Fgoog4_request%26X-Goog-Date%3D20240406T081136Z%26X-Goog-Expires%3D259200%26X-Goog-SignedHeaders%3Dhost%26X-Goog-Signature%3Dd079ee35bc23927464c022209bee43ba69e7a4011efa1461ea2f154285c4f4f5b79f372fd53a94821de9fdcd3750748e193be15261b9122d4e8064637ab375b716b4162c68a7b00b08f7a370adb7c872d44c4c4012f872bbe33f7621916253d02debbd114e6ec82a727e7726ba714cc20ffa27cd54d9f06253d730b2da82bf8831670e690a3fbd9b6937d3d6dbc1ffb2441b9a215d8b2fe0f0e96d2580f6c0334517180bd1aafd3a44af6dd0122d80cf7f9d8955a2abcd81e197a9e6819aa1085fb3ff20eb1f48b92b158856edf21b1b3c50480eb61c25896810459720d2ec1b4dd15b05c3b8c9314023df54a5e7a6b035377a2ef4647f485cf7a8ea8332bcb5'\n",
        "\n",
        "KAGGLE_INPUT_PATH='/kaggle/input'\n",
        "KAGGLE_WORKING_PATH='/kaggle/working'\n",
        "KAGGLE_SYMLINK='kaggle'\n",
        "\n",
        "!umount /kaggle/input/ 2> /dev/null\n",
        "shutil.rmtree('/kaggle/input', ignore_errors=True)\n",
        "os.makedirs(KAGGLE_INPUT_PATH, 0o777, exist_ok=True)\n",
        "os.makedirs(KAGGLE_WORKING_PATH, 0o777, exist_ok=True)\n",
        "\n",
        "try:\n",
        "  os.symlink(KAGGLE_INPUT_PATH, os.path.join(\"..\", 'input'), target_is_directory=True)\n",
        "except FileExistsError:\n",
        "  pass\n",
        "try:\n",
        "  os.symlink(KAGGLE_WORKING_PATH, os.path.join(\"..\", 'working'), target_is_directory=True)\n",
        "except FileExistsError:\n",
        "  pass\n",
        "\n",
        "for data_source_mapping in DATA_SOURCE_MAPPING.split(','):\n",
        "    directory, download_url_encoded = data_source_mapping.split(':')\n",
        "    download_url = unquote(download_url_encoded)\n",
        "    filename = urlparse(download_url).path\n",
        "    destination_path = os.path.join(KAGGLE_INPUT_PATH, directory)\n",
        "    try:\n",
        "        with urlopen(download_url) as fileres, NamedTemporaryFile() as tfile:\n",
        "            total_length = fileres.headers['content-length']\n",
        "            print(f'Downloading {directory}, {total_length} bytes compressed')\n",
        "            dl = 0\n",
        "            data = fileres.read(CHUNK_SIZE)\n",
        "            while len(data) > 0:\n",
        "                dl += len(data)\n",
        "                tfile.write(data)\n",
        "                done = int(50 * dl / int(total_length))\n",
        "                sys.stdout.write(f\"\\r[{'=' * done}{' ' * (50-done)}] {dl} bytes downloaded\")\n",
        "                sys.stdout.flush()\n",
        "                data = fileres.read(CHUNK_SIZE)\n",
        "            if filename.endswith('.zip'):\n",
        "              with ZipFile(tfile) as zfile:\n",
        "                zfile.extractall(destination_path)\n",
        "            else:\n",
        "              with tarfile.open(tfile.name) as tarfile:\n",
        "                tarfile.extractall(destination_path)\n",
        "            print(f'\\nDownloaded and uncompressed: {directory}')\n",
        "    except HTTPError as e:\n",
        "        print(f'Failed to load (likely expired) {download_url} to path {destination_path}')\n",
        "        continue\n",
        "    except OSError as e:\n",
        "        print(f'Failed to load {download_url} to path {destination_path}')\n",
        "        continue\n",
        "\n",
        "print('Data source import complete.')\n"
      ],
      "metadata": {
        "id": "9Cv9-Fi-dpkN",
        "colab": {
          "base_uri": "https://localhost:8080/"
        },
        "outputId": "da53b4c5-3191-42a9-a2f9-3d389f8616e7"
      },
      "cell_type": "code",
      "outputs": [
        {
          "output_type": "stream",
          "name": "stdout",
          "text": [
            "Downloading handwriting-recognition, 1353071625 bytes compressed\n",
            "[==================================================] 1353071625 bytes downloaded\n",
            "Downloaded and uncompressed: handwriting-recognition\n",
            "Data source import complete.\n"
          ]
        }
      ],
      "execution_count": null
    },
    {
      "cell_type": "markdown",
      "source": [
        "In this notebook, we'll go through the steps to train a CRNN (CNN+RNN) model for handwriting recognition. The model will be trained using the CTC(Connectionist Temporal Classification) loss.\n",
        "\n",
        "\n"
      ],
      "metadata": {
        "id": "Lq6Pm_LFdpkQ"
      }
    },
    {
      "cell_type": "markdown",
      "source": [
        "Lets start by importing the necessary libraries. I'll be using Keras for building our CRNN model."
      ],
      "metadata": {
        "id": "yYpprx8_dpkR"
      }
    },
    {
      "cell_type": "code",
      "source": [
        "import os\n",
        "import cv2\n",
        "import random\n",
        "import numpy as np\n",
        "import pandas as pd\n",
        "import matplotlib.pyplot as plt\n",
        "\n",
        "import tensorflow as tf\n",
        "from keras import backend as K\n",
        "from keras.models import Model\n",
        "from keras.layers import Input, Conv2D, MaxPooling2D, Reshape, Bidirectional, LSTM, Dense, Lambda, Activation, BatchNormalization, Dropout\n",
        "from keras.optimizers import Adam"
      ],
      "metadata": {
        "_uuid": "d629ff2d2480ee46fbb7e2d37f6b5fab8052498a",
        "_cell_guid": "79c7e3d0-c299-4dcb-8224-4455121ee9b0",
        "execution": {
          "iopub.status.busy": "2024-04-06T07:16:02.438319Z",
          "iopub.execute_input": "2024-04-06T07:16:02.438771Z",
          "iopub.status.idle": "2024-04-06T07:16:02.4472Z",
          "shell.execute_reply.started": "2024-04-06T07:16:02.438731Z",
          "shell.execute_reply": "2024-04-06T07:16:02.445923Z"
        },
        "trusted": true,
        "id": "ROnCiNVEdpkS"
      },
      "execution_count": null,
      "outputs": []
    },
    {
      "cell_type": "code",
      "source": [
        "# It is necessaryr for a TPU to be running to the amount of data we are processing\n",
        "\n",
        "try:\n",
        "    tpu = tf.distribute.cluster_resolver.TPUClusterResolver()  # TPU detection\n",
        "    print('Running on TPU ', tpu.master())\n",
        "except ValueError:\n",
        "    print(\"Could not connect to TPU\")\n",
        "    tpu = None\n",
        "\n",
        "# Select appropriate distribution strategy\n",
        "if tpu:\n",
        "    tf.config.experimental_connect_to_cluster(tpu)\n",
        "    tf.tpu.experimental.initialize_tpu_system(tpu)\n",
        "    strategy = tf.distribute.TPUStrategy(tpu)\n",
        "else:\n",
        "    strategy = tf.distribute.get_strategy()\n",
        "\n",
        "print(\"Number of accelerators: \", strategy.num_replicas_in_sync)\n"
      ],
      "metadata": {
        "execution": {
          "iopub.status.busy": "2024-04-06T07:17:25.423448Z",
          "iopub.execute_input": "2024-04-06T07:17:25.424027Z"
        },
        "trusted": true,
        "id": "Z5zRh4O1dpkS",
        "colab": {
          "base_uri": "https://localhost:8080/"
        },
        "outputId": "b258ddac-a8e0-4dd9-a127-0d3c7aac5f57"
      },
      "execution_count": null,
      "outputs": [
        {
          "output_type": "stream",
          "name": "stdout",
          "text": [
            "Running on TPU  \n",
            "Number of accelerators:  8\n"
          ]
        }
      ]
    },
    {
      "cell_type": "markdown",
      "source": [
        "## Load and view data"
      ],
      "metadata": {
        "id": "SkVhGMk0dpkS"
      }
    },
    {
      "cell_type": "code",
      "source": [
        "# Train and Validation Data\n",
        "train = pd.read_csv('/kaggle/input/handwriting-recognition/written_name_train_v2.csv')\n",
        "valid = pd.read_csv('/kaggle/input/handwriting-recognition/written_name_validation_v2.csv')"
      ],
      "metadata": {
        "execution": {
          "iopub.status.busy": "2024-04-06T07:02:21.746607Z",
          "iopub.execute_input": "2024-04-06T07:02:21.747003Z",
          "iopub.status.idle": "2024-04-06T07:02:22.398048Z",
          "shell.execute_reply.started": "2024-04-06T07:02:21.746965Z",
          "shell.execute_reply": "2024-04-06T07:02:22.396846Z"
        },
        "trusted": true,
        "id": "rSLlJLG8dpkS"
      },
      "execution_count": null,
      "outputs": []
    },
    {
      "cell_type": "code",
      "source": [
        "# Plotting data to see form of data\n",
        "plt.figure(figsize=(15, 10))\n",
        "\n",
        "for i in range(6):\n",
        "    ax = plt.subplot(2, 3, i+1)\n",
        "    img_dir = '/kaggle/input/handwriting-recognition/train_v2/train/'+train.loc[i, 'FILENAME']\n",
        "    image = cv2.imread(img_dir, cv2.IMREAD_GRAYSCALE)\n",
        "    plt.imshow(image, cmap = 'gray')\n",
        "    plt.title(train.loc[i, 'IDENTITY'], fontsize=12)\n",
        "    plt.axis('off')\n",
        "\n",
        "plt.subplots_adjust(wspace=0.2, hspace=-0.8)"
      ],
      "metadata": {
        "execution": {
          "iopub.status.busy": "2024-04-06T07:02:22.399797Z",
          "iopub.execute_input": "2024-04-06T07:02:22.400286Z",
          "iopub.status.idle": "2024-04-06T07:02:23.049311Z",
          "shell.execute_reply.started": "2024-04-06T07:02:22.4002Z",
          "shell.execute_reply": "2024-04-06T07:02:23.048089Z"
        },
        "trusted": true,
        "id": "ru3t4qlYdpkT",
        "outputId": "b8b947f9-206f-40c4-b118-13daf96e1146",
        "colab": {
          "base_uri": "https://localhost:8080/",
          "height": 144
        }
      },
      "execution_count": null,
      "outputs": [
        {
          "output_type": "display_data",
          "data": {
            "text/plain": [
              "<Figure size 1500x1000 with 6 Axes>"
            ],
            "image/png": "[encoded data removed]"
          },
          "metadata": {}
        }
      ]
    },
    {
      "cell_type": "markdown",
      "source": [
        "## Cleaning Data"
      ],
      "metadata": {
        "id": "5vsizylHdpkU"
      }
    },
    {
      "cell_type": "markdown",
      "source": [
        "Let's check for NaNs in our label."
      ],
      "metadata": {
        "id": "qhTcyc6DdpkV"
      }
    },
    {
      "cell_type": "code",
      "source": [
        "print(\"Number of NaNs in train set      : \", train['IDENTITY'].isnull().sum())\n",
        "print(\"Number of NaNs in validation set : \", valid['IDENTITY'].isnull().sum())"
      ],
      "metadata": {
        "execution": {
          "iopub.status.busy": "2024-04-06T07:02:23.051272Z",
          "iopub.execute_input": "2024-04-06T07:02:23.051756Z",
          "iopub.status.idle": "2024-04-06T07:02:23.107699Z",
          "shell.execute_reply.started": "2024-04-06T07:02:23.051706Z",
          "shell.execute_reply": "2024-04-06T07:02:23.106478Z"
        },
        "trusted": true,
        "id": "83XGBPsCdpkV",
        "outputId": "060d5f50-691a-463f-f841-2eaad5f64153",
        "colab": {
          "base_uri": "https://localhost:8080/"
        }
      },
      "execution_count": null,
      "outputs": [
        {
          "output_type": "stream",
          "name": "stdout",
          "text": [
            "Number of NaNs in train set      :  565\n",
            "Number of NaNs in validation set :  78\n"
          ]
        }
      ]
    },
    {
      "cell_type": "code",
      "source": [
        "train.dropna(axis=0, inplace=True)\n",
        "valid.dropna(axis=0, inplace=True)"
      ],
      "metadata": {
        "execution": {
          "iopub.status.busy": "2024-04-06T07:02:23.111579Z",
          "iopub.execute_input": "2024-04-06T07:02:23.111984Z",
          "iopub.status.idle": "2024-04-06T07:02:23.258154Z",
          "shell.execute_reply.started": "2024-04-06T07:02:23.111945Z",
          "shell.execute_reply": "2024-04-06T07:02:23.256901Z"
        },
        "trusted": true,
        "id": "aPqLgFZndpkV"
      },
      "execution_count": null,
      "outputs": []
    },
    {
      "cell_type": "markdown",
      "source": [
        "Also, there are some images in our data with the label 'UNREADABLE'. Lets check those images and remove them."
      ],
      "metadata": {
        "id": "ozY4qhW8dpkW"
      }
    },
    {
      "cell_type": "code",
      "source": [
        "unreadable = train[train['IDENTITY'] == 'UNREADABLE']\n",
        "unreadable.reset_index(inplace = True, drop=True)\n",
        "# Removal of UnReadable Data\n",
        "plt.figure(figsize=(15, 10))\n",
        "\n",
        "for i in range(6):\n",
        "    ax = plt.subplot(2, 3, i+1)\n",
        "    img_dir = '/kaggle/input/handwriting-recognition/train_v2/train/'+unreadable.loc[i, 'FILENAME']\n",
        "    image = cv2.imread(img_dir, cv2.IMREAD_GRAYSCALE)\n",
        "    plt.imshow(image, cmap = 'gray')\n",
        "    plt.title(unreadable.loc[i, 'IDENTITY'], fontsize=12)\n",
        "    plt.axis('off')\n",
        "\n",
        "plt.subplots_adjust(wspace=0.2, hspace=-0.8)"
      ],
      "metadata": {
        "execution": {
          "iopub.status.busy": "2024-04-06T07:02:23.260016Z",
          "iopub.execute_input": "2024-04-06T07:02:23.260533Z",
          "iopub.status.idle": "2024-04-06T07:02:23.74088Z",
          "shell.execute_reply.started": "2024-04-06T07:02:23.260484Z",
          "shell.execute_reply": "2024-04-06T07:02:23.739462Z"
        },
        "trusted": true,
        "id": "rjT0kaNXdpkW",
        "outputId": "6867cd2b-7262-42de-e0f7-3d1abba29968",
        "colab": {
          "base_uri": "https://localhost:8080/",
          "height": 128
        }
      },
      "execution_count": null,
      "outputs": [
        {
          "output_type": "display_data",
          "data": {
            "text/plain": [
              "<Figure size 1500x1000 with 6 Axes>"
            ],
            "image/png": "[encoded data removed]"
          },
          "metadata": {}
        }
      ]
    },
    {
      "cell_type": "code",
      "source": [
        "train = train[train['IDENTITY'] != 'UNREADABLE']\n",
        "valid = valid[valid['IDENTITY'] != 'UNREADABLE']"
      ],
      "metadata": {
        "execution": {
          "iopub.status.busy": "2024-04-06T07:02:23.742633Z",
          "iopub.execute_input": "2024-04-06T07:02:23.743017Z",
          "iopub.status.idle": "2024-04-06T07:02:23.839391Z",
          "shell.execute_reply.started": "2024-04-06T07:02:23.742981Z",
          "shell.execute_reply": "2024-04-06T07:02:23.837904Z"
        },
        "trusted": true,
        "id": "cWEwg9wIdpkW"
      },
      "execution_count": null,
      "outputs": []
    },
    {
      "cell_type": "markdown",
      "source": [
        "There are some labels which are in lowercase. To maintain uniformity in the labels, I convert all the labels to uppercase."
      ],
      "metadata": {
        "id": "eScwwJyCdpkW"
      }
    },
    {
      "cell_type": "code",
      "source": [
        "train['IDENTITY'] = train['IDENTITY'].str.upper()\n",
        "valid['IDENTITY'] = valid['IDENTITY'].str.upper()"
      ],
      "metadata": {
        "execution": {
          "iopub.status.busy": "2024-04-06T07:02:23.840989Z",
          "iopub.execute_input": "2024-04-06T07:02:23.841525Z",
          "iopub.status.idle": "2024-04-06T07:02:24.147483Z",
          "shell.execute_reply.started": "2024-04-06T07:02:23.841474Z",
          "shell.execute_reply": "2024-04-06T07:02:24.14618Z"
        },
        "trusted": true,
        "id": "1u4EdmhfdpkW"
      },
      "execution_count": null,
      "outputs": []
    },
    {
      "cell_type": "markdown",
      "source": [
        "Reset the index and we are done with cleaning."
      ],
      "metadata": {
        "id": "Hv7t4MmYdpkW"
      }
    },
    {
      "cell_type": "code",
      "source": [
        "train.reset_index(inplace = True, drop=True)\n",
        "valid.reset_index(inplace = True, drop=True)"
      ],
      "metadata": {
        "execution": {
          "iopub.status.busy": "2024-04-06T07:02:24.149024Z",
          "iopub.execute_input": "2024-04-06T07:02:24.149369Z",
          "iopub.status.idle": "2024-04-06T07:02:24.155339Z",
          "shell.execute_reply.started": "2024-04-06T07:02:24.149335Z",
          "shell.execute_reply": "2024-04-06T07:02:24.154069Z"
        },
        "trusted": true,
        "id": "bZIIrS34dpkW"
      },
      "execution_count": null,
      "outputs": []
    },
    {
      "cell_type": "markdown",
      "source": [
        "## Preprocessing and preparing the images for training"
      ],
      "metadata": {
        "id": "uwmUSOWxdpkW"
      }
    },
    {
      "cell_type": "markdown",
      "source": [
        "* The images are loaded as grayscale and reshaped to width 256 and height 64.  \n",
        "* The width and height are cropped if they are greater than 256 and 64 respectively. If they are smaller, then the image is padded with white pixels. Finally the image is rotated clockwise to bring the image shape to (x, y).\n",
        "* The image is then normalized to range [0, 1]"
      ],
      "metadata": {
        "id": "d7ONMQr7dpkW"
      }
    },
    {
      "cell_type": "code",
      "source": [
        "def preprocess(img):\n",
        "    (h, w) = img.shape\n",
        "\n",
        "    final_img = np.ones([64, 256])*255 # blank white image\n",
        "\n",
        "    # crop\n",
        "    if w > 256:\n",
        "        img = img[:, :256]\n",
        "\n",
        "    if h > 64:\n",
        "        img = img[:64, :]\n",
        "\n",
        "\n",
        "    final_img[:h, :w] = img\n",
        "    return cv2.rotate(final_img, cv2.ROTATE_90_CLOCKWISE)"
      ],
      "metadata": {
        "execution": {
          "iopub.status.busy": "2024-04-06T07:02:24.157207Z",
          "iopub.execute_input": "2024-04-06T07:02:24.157577Z",
          "iopub.status.idle": "2024-04-06T07:02:24.167206Z",
          "shell.execute_reply.started": "2024-04-06T07:02:24.157535Z",
          "shell.execute_reply": "2024-04-06T07:02:24.16582Z"
        },
        "trusted": true,
        "id": "SPkOoDyrdpkW"
      },
      "execution_count": null,
      "outputs": []
    },
    {
      "cell_type": "markdown",
      "source": [
        "The model will be trained on 30000 images and validate on 3000 images"
      ],
      "metadata": {
        "id": "gxvbYd9AdpkW"
      }
    },
    {
      "cell_type": "code",
      "source": [
        "train_size = 30000\n",
        "valid_size= 3000"
      ],
      "metadata": {
        "execution": {
          "iopub.status.busy": "2024-04-06T07:02:24.168922Z",
          "iopub.execute_input": "2024-04-06T07:02:24.169328Z",
          "iopub.status.idle": "2024-04-06T07:02:24.177282Z",
          "shell.execute_reply.started": "2024-04-06T07:02:24.169282Z",
          "shell.execute_reply": "2024-04-06T07:02:24.175977Z"
        },
        "trusted": true,
        "id": "vztB2ovFdpkW"
      },
      "execution_count": null,
      "outputs": []
    },
    {
      "cell_type": "code",
      "source": [
        "# Train Data\n",
        "train_x = []\n",
        "\n",
        "for i in range(train_size):\n",
        "    img_dir = '/kaggle/input/handwriting-recognition/train_v2/train/'+train.loc[i, 'FILENAME']\n",
        "    image = cv2.imread(img_dir, cv2.IMREAD_GRAYSCALE)\n",
        "    image = preprocess(image)\n",
        "    image = image/255.\n",
        "    train_x.append(image)\n"
      ],
      "metadata": {
        "execution": {
          "iopub.status.busy": "2024-04-06T07:02:27.204205Z",
          "iopub.execute_input": "2024-04-06T07:02:27.204678Z",
          "iopub.status.idle": "2024-04-06T07:09:48.743013Z",
          "shell.execute_reply.started": "2024-04-06T07:02:27.204636Z",
          "shell.execute_reply": "2024-04-06T07:09:48.741981Z"
        },
        "trusted": true,
        "id": "-WIws3jkdpkW"
      },
      "execution_count": null,
      "outputs": []
    },
    {
      "cell_type": "code",
      "source": [
        "# Validation Data\n",
        "valid_x = []\n",
        "\n",
        "for i in range(valid_size):\n",
        "    img_dir = '/kaggle/input/handwriting-recognition/validation_v2/validation/'+valid.loc[i, 'FILENAME']\n",
        "    image = cv2.imread(img_dir, cv2.IMREAD_GRAYSCALE)\n",
        "    image = preprocess(image)\n",
        "    image = image/255.\n",
        "    valid_x.append(image)"
      ],
      "metadata": {
        "execution": {
          "iopub.status.busy": "2024-04-06T07:09:48.744599Z",
          "iopub.execute_input": "2024-04-06T07:09:48.74506Z",
          "iopub.status.idle": "2024-04-06T07:10:30.163182Z",
          "shell.execute_reply.started": "2024-04-06T07:09:48.745026Z",
          "shell.execute_reply": "2024-04-06T07:10:30.162313Z"
        },
        "trusted": true,
        "id": "GgF-d9NYdpkX"
      },
      "execution_count": null,
      "outputs": []
    },
    {
      "cell_type": "code",
      "source": [
        "train_x = np.array(train_x).reshape(-1, 256, 64, 1)\n",
        "valid_x = np.array(valid_x).reshape(-1, 256, 64, 1)"
      ],
      "metadata": {
        "execution": {
          "iopub.status.busy": "2024-04-06T07:10:36.732507Z",
          "iopub.execute_input": "2024-04-06T07:10:36.733135Z",
          "iopub.status.idle": "2024-04-06T07:10:38.640187Z",
          "shell.execute_reply.started": "2024-04-06T07:10:36.733086Z",
          "shell.execute_reply": "2024-04-06T07:10:38.638818Z"
        },
        "trusted": true,
        "id": "oAcot7wldpkX"
      },
      "execution_count": null,
      "outputs": []
    },
    {
      "cell_type": "code",
      "source": [
        "# Checking if size of train and valid are same of that of declared\n",
        "print(len(train_x))\n",
        "print(len(valid_x))"
      ],
      "metadata": {
        "execution": {
          "iopub.status.busy": "2024-04-06T07:11:08.737948Z",
          "iopub.execute_input": "2024-04-06T07:11:08.738369Z",
          "iopub.status.idle": "2024-04-06T07:11:08.743591Z",
          "shell.execute_reply.started": "2024-04-06T07:11:08.73833Z",
          "shell.execute_reply": "2024-04-06T07:11:08.742485Z"
        },
        "trusted": true,
        "id": "S1H9uW2zdpkX",
        "outputId": "2695b915-a30a-4024-dfe8-d7f80cd1f044",
        "colab": {
          "base_uri": "https://localhost:8080/"
        }
      },
      "execution_count": null,
      "outputs": [
        {
          "output_type": "stream",
          "name": "stdout",
          "text": [
            "30000\n",
            "3000\n"
          ]
        }
      ]
    },
    {
      "cell_type": "markdown",
      "source": [
        "## Preparing the labels for CTC Loss\n",
        "\n",
        "Learn more about CTC loss and why its amazing for text recognition from [here](https://theailearner.com/2019/05/29/connectionist-temporal-classificationctc/).\n",
        "\n",
        "The labels have to be converted to numbers which represent each character in the training set. The 'alphabets' consist of A-Z and three special characters (-  '  and space)."
      ],
      "metadata": {
        "id": "vuEYaTZ0dpkX"
      }
    },
    {
      "cell_type": "code",
      "source": [
        "# Preparing for CTC Loss\n",
        "alphabets = u\"ABCDEFGHIJKLMNOPQRSTUVWXYZ-' \"\n",
        "max_str_len = 24 # max length of input labels\n",
        "num_of_characters = len(alphabets) + 1 # +1 for ctc pseudo blank\n",
        "num_of_timestamps = 64 # max length of predicted labels\n",
        "\n",
        "\n",
        "def label_to_num(label):\n",
        "    label_num = []\n",
        "    for ch in label:\n",
        "        label_num.append(alphabets.find(ch))\n",
        "\n",
        "    return np.array(label_num)\n",
        "\n",
        "def num_to_label(num):\n",
        "    ret = \"\"\n",
        "    for ch in num:\n",
        "        if ch == -1:  # CTC Blank\n",
        "            break\n",
        "        else:\n",
        "            ret+=alphabets[ch]\n",
        "    return ret"
      ],
      "metadata": {
        "execution": {
          "iopub.status.busy": "2024-04-06T01:57:11.408241Z",
          "iopub.execute_input": "2024-04-06T01:57:11.408589Z",
          "iopub.status.idle": "2024-04-06T01:57:11.418919Z",
          "shell.execute_reply.started": "2024-04-06T01:57:11.408556Z",
          "shell.execute_reply": "2024-04-06T01:57:11.417378Z"
        },
        "trusted": true,
        "id": "aGaBsnmedpkX"
      },
      "execution_count": null,
      "outputs": []
    },
    {
      "cell_type": "code",
      "source": [
        "# Checking if labeling works\n",
        "name = 'JEBASTIN'\n",
        "print(name, '\\n',label_to_num(name))"
      ],
      "metadata": {
        "execution": {
          "iopub.status.busy": "2024-04-06T01:57:11.423687Z",
          "iopub.execute_input": "2024-04-06T01:57:11.424059Z",
          "iopub.status.idle": "2024-04-06T01:57:11.440702Z",
          "shell.execute_reply.started": "2024-04-06T01:57:11.424025Z",
          "shell.execute_reply": "2024-04-06T01:57:11.43928Z"
        },
        "trusted": true,
        "id": "IsLj8s5fdpkX",
        "outputId": "e2d26858-897a-4a21-dfa1-f65591f59978",
        "colab": {
          "base_uri": "https://localhost:8080/"
        }
      },
      "execution_count": null,
      "outputs": [
        {
          "output_type": "stream",
          "name": "stdout",
          "text": [
            "JEBASTIN \n",
            " [ 9  4  1  0 18 19  8 13]\n"
          ]
        }
      ]
    },
    {
      "cell_type": "markdown",
      "source": [
        "* **train_y** contains the true labels converted to numbers and padded with -1. The length of each label is equal to max_str_len.\n",
        "* **train_label_len** contains the length of each true label (without padding)\n",
        "* **train_input_len** contains the length of each predicted label. The length of all the predicted labels is constant i.e number of timestamps - 2.  \n",
        "* **train_output** is a dummy output for ctc loss.\n"
      ],
      "metadata": {
        "id": "P6Q6VLYndpkX"
      }
    },
    {
      "cell_type": "code",
      "source": [
        "# Sequence preprocessing\n",
        "train_y = np.ones([train_size, max_str_len]) * -1\n",
        "train_label_len = np.zeros([train_size, 1])\n",
        "train_input_len = np.ones([train_size, 1]) * (num_of_timestamps-2)\n",
        "train_output = np.zeros([train_size])\n",
        "\n",
        "for i in range(train_size):\n",
        "    train_label_len[i] = len(train.loc[i, 'IDENTITY'])\n",
        "    train_y[i, 0:len(train.loc[i, 'IDENTITY'])]= label_to_num(train.loc[i, 'IDENTITY'])"
      ],
      "metadata": {
        "execution": {
          "iopub.status.busy": "2024-04-06T01:58:57.012302Z",
          "iopub.execute_input": "2024-04-06T01:58:57.012742Z",
          "iopub.status.idle": "2024-04-06T01:58:58.723413Z",
          "shell.execute_reply.started": "2024-04-06T01:58:57.012705Z",
          "shell.execute_reply": "2024-04-06T01:58:58.722352Z"
        },
        "trusted": true,
        "id": "Pdw9hX0_dpkX"
      },
      "execution_count": null,
      "outputs": []
    },
    {
      "cell_type": "code",
      "source": [
        "valid_y = np.ones([valid_size, max_str_len]) * -1\n",
        "valid_label_len = np.zeros([valid_size, 1])\n",
        "valid_input_len = np.ones([valid_size, 1]) * (num_of_timestamps-2)\n",
        "valid_output = np.zeros([valid_size])\n",
        "\n",
        "for i in range(valid_size):\n",
        "    valid_label_len[i] = len(valid.loc[i, 'IDENTITY'])\n",
        "    valid_y[i, 0:len(valid.loc[i, 'IDENTITY'])]= label_to_num(valid.loc[i, 'IDENTITY'])"
      ],
      "metadata": {
        "execution": {
          "iopub.status.busy": "2024-04-06T01:59:01.9629Z",
          "iopub.execute_input": "2024-04-06T01:59:01.963349Z",
          "iopub.status.idle": "2024-04-06T01:59:02.179641Z",
          "shell.execute_reply.started": "2024-04-06T01:59:01.963312Z",
          "shell.execute_reply": "2024-04-06T01:59:02.17837Z"
        },
        "trusted": true,
        "id": "ACFbwwq8dpkX"
      },
      "execution_count": null,
      "outputs": []
    },
    {
      "cell_type": "code",
      "source": [
        "print('True label : ',train.loc[100, 'IDENTITY'] , '\\ntrain_y : ',train_y[100],'\\ntrain_label_len : ',train_label_len[100],\n",
        "      '\\ntrain_input_len : ', train_input_len[100])"
      ],
      "metadata": {
        "execution": {
          "iopub.status.busy": "2024-04-06T01:59:09.040939Z",
          "iopub.execute_input": "2024-04-06T01:59:09.041491Z",
          "iopub.status.idle": "2024-04-06T01:59:09.054147Z",
          "shell.execute_reply.started": "2024-04-06T01:59:09.041429Z",
          "shell.execute_reply": "2024-04-06T01:59:09.052254Z"
        },
        "trusted": true,
        "id": "i8bN1WxldpkX",
        "outputId": "4d42a3c6-2724-47be-8b81-0a27a0bc9ae5",
        "colab": {
          "base_uri": "https://localhost:8080/"
        }
      },
      "execution_count": null,
      "outputs": [
        {
          "output_type": "stream",
          "name": "stdout",
          "text": [
            "True label :  NOUR \n",
            "train_y :  [13. 14. 20. 17. -1. -1. -1. -1. -1. -1. -1. -1. -1. -1. -1. -1. -1. -1.\n",
            " -1. -1. -1. -1. -1. -1.] \n",
            "train_label_len :  [4.] \n",
            "train_input_len :  [62.]\n"
          ]
        }
      ]
    },
    {
      "cell_type": "code",
      "source": [
        "from keras.models import load_model\n",
        "\n",
        "# Load the model\n",
        "model = load_model('model.h5')"
      ],
      "metadata": {
        "colab": {
          "base_uri": "https://localhost:8080/"
        },
        "id": "v5iSuWYrHE6x",
        "outputId": "910aa891-fc7a-4453-b1ab-92c5b65dceed"
      },
      "execution_count": null,
      "outputs": [
        {
          "output_type": "stream",
          "name": "stderr",
          "text": [
            "WARNING:tensorflow:No training configuration found in the save file, so the model was *not* compiled. Compile it manually.\n"
          ]
        }
      ]
    },
    {
      "cell_type": "code",
      "source": [
        "# Testing with uploaded data\n",
        "img_dir = '/content/Hey77732.png'\n",
        "image = cv2.imread(img_dir, cv2.IMREAD_GRAYSCALE)\n",
        "plt.imshow(image, cmap='gray')\n",
        "\n",
        "image = preprocess(image)\n",
        "image = image/255.\n",
        "pred = model.predict(image.reshape(1, 256, 64, 1))\n",
        "decoded = K.get_value(K.ctc_decode(pred, input_length=np.ones(pred.shape[0])*pred.shape[1],\n",
        "                                    greedy=True)[0][0])\n",
        "plt.title(num_to_label(decoded[0]), fontsize=12)\n",
        "plt.axis('off')\n",
        "\n",
        "plt.subplots_adjust(wspace=0.2, hspace=-0.8)\n"
      ],
      "metadata": {
        "colab": {
          "base_uri": "https://localhost:8080/",
          "height": 227
        },
        "id": "idsM_wOmHMZw",
        "outputId": "7c72e322-eb5c-4104-9649-23969a96061f"
      },
      "execution_count": null,
      "outputs": [
        {
          "output_type": "stream",
          "name": "stdout",
          "text": [
            "1/1 [==============================] - 4s 4s/step\n"
          ]
        },
        {
          "output_type": "display_data",
          "data": {
            "text/plain": [
              "<Figure size 640x480 with 1 Axes>"
            ],
            "image/png": "[encoded data removed]"
          },
          "metadata": {}
        }
      ]
    },
    {
      "cell_type": "markdown",
      "source": [
        "## Building our model\n"
      ],
      "metadata": {
        "id": "8ICdq71TdpkY"
      }
    },
    {
      "cell_type": "code",
      "source": [
        "# Building the Model if model isn't present\n",
        "input_data = Input(shape=(256, 64, 1), name='input')\n",
        "\n",
        "inner = Conv2D(32, (3, 3), padding='same', name='conv1', kernel_initializer='he_normal')(input_data)\n",
        "inner = BatchNormalization()(inner)\n",
        "inner = Activation('relu')(inner)\n",
        "inner = MaxPooling2D(pool_size=(2, 2), name='max1')(inner)\n",
        "\n",
        "inner = Conv2D(64, (3, 3), padding='same', name='conv2', kernel_initializer='he_normal')(inner)\n",
        "inner = BatchNormalization()(inner)\n",
        "inner = Activation('relu')(inner)\n",
        "inner = MaxPooling2D(pool_size=(2, 2), name='max2')(inner)\n",
        "inner = Dropout(0.3)(inner)\n",
        "\n",
        "inner = Conv2D(128, (3, 3), padding='same', name='conv3', kernel_initializer='he_normal')(inner)\n",
        "inner = BatchNormalization()(inner)\n",
        "inner = Activation('relu')(inner)\n",
        "inner = MaxPooling2D(pool_size=(1, 2), name='max3')(inner)\n",
        "inner = Dropout(0.3)(inner)\n",
        "\n",
        "# CNN to RNN\n",
        "inner = Reshape(target_shape=((64, 1024)), name='reshape')(inner)\n",
        "inner = Dense(64, activation='relu', kernel_initializer='he_normal', name='dense1')(inner)\n",
        "\n",
        "## RNN\n",
        "inner = Bidirectional(LSTM(256, return_sequences=True), name = 'lstm1')(inner)\n",
        "inner = Bidirectional(LSTM(256, return_sequences=True), name = 'lstm2')(inner)\n",
        "\n",
        "## OUTPUT\n",
        "inner = Dense(num_of_characters, kernel_initializer='he_normal',name='dense2')(inner)\n",
        "y_pred = Activation('softmax', name='softmax')(inner)\n",
        "\n",
        "model = Model(inputs=input_data, outputs=y_pred)\n",
        "model.summary()"
      ],
      "metadata": {
        "execution": {
          "iopub.status.busy": "2024-04-06T01:59:11.897585Z",
          "iopub.execute_input": "2024-04-06T01:59:11.898135Z",
          "iopub.status.idle": "2024-04-06T01:59:13.611129Z",
          "shell.execute_reply.started": "2024-04-06T01:59:11.898055Z",
          "shell.execute_reply": "2024-04-06T01:59:13.609797Z"
        },
        "trusted": true,
        "id": "jX20vsjydpkY",
        "outputId": "f008fe27-6d14-4d3e-d11a-7f9ff207930c",
        "colab": {
          "base_uri": "https://localhost:8080/"
        }
      },
      "execution_count": null,
      "outputs": [
        {
          "output_type": "stream",
          "name": "stdout",
          "text": [
            "Model: \"model\"\n",
            "_________________________________________________________________\n",
            " Layer (type)                Output Shape              Param #   \n",
            "=================================================================\n",
            " input (InputLayer)          [(None, 256, 64, 1)]      0         \n",
            "                                                                 \n",
            " conv1 (Conv2D)              (None, 256, 64, 32)       320       \n",
            "                                                                 \n",
            " batch_normalization (Batch  (None, 256, 64, 32)       128       \n",
            " Normalization)                                                  \n",
            "                                                                 \n",
            " activation (Activation)     (None, 256, 64, 32)       0         \n",
            "                                                                 \n",
            " max1 (MaxPooling2D)         (None, 128, 32, 32)       0         \n",
            "                                                                 \n",
            " conv2 (Conv2D)              (None, 128, 32, 64)       18496     \n",
            "                                                                 \n",
            " batch_normalization_1 (Bat  (None, 128, 32, 64)       256       \n",
            " chNormalization)                                                \n",
            "                                                                 \n",
            " activation_1 (Activation)   (None, 128, 32, 64)       0         \n",
            "                                                                 \n",
            " max2 (MaxPooling2D)         (None, 64, 16, 64)        0         \n",
            "                                                                 \n",
            " dropout (Dropout)           (None, 64, 16, 64)        0         \n",
            "                                                                 \n",
            " conv3 (Conv2D)              (None, 64, 16, 128)       73856     \n",
            "                                                                 \n",
            " batch_normalization_2 (Bat  (None, 64, 16, 128)       512       \n",
            " chNormalization)                                                \n",
            "                                                                 \n",
            " activation_2 (Activation)   (None, 64, 16, 128)       0         \n",
            "                                                                 \n",
            " max3 (MaxPooling2D)         (None, 64, 8, 128)        0         \n",
            "                                                                 \n",
            " dropout_1 (Dropout)         (None, 64, 8, 128)        0         \n",
            "                                                                 \n",
            " reshape (Reshape)           (None, 64, 1024)          0         \n",
            "                                                                 \n",
            " dense1 (Dense)              (None, 64, 64)            65600     \n",
            "                                                                 \n",
            " lstm1 (Bidirectional)       (None, 64, 512)           657408    \n",
            "                                                                 \n",
            " lstm2 (Bidirectional)       (None, 64, 512)           1574912   \n",
            "                                                                 \n",
            " dense2 (Dense)              (None, 64, 30)            15390     \n",
            "                                                                 \n",
            " softmax (Activation)        (None, 64, 30)            0         \n",
            "                                                                 \n",
            "=================================================================\n",
            "Total params: 2406878 (9.18 MB)\n",
            "Trainable params: 2406430 (9.18 MB)\n",
            "Non-trainable params: 448 (1.75 KB)\n",
            "_________________________________________________________________\n"
          ]
        }
      ]
    },
    {
      "cell_type": "markdown",
      "source": [
        "The output shape of the predictions is (64, 30). The model predicts words of 64 characters and each character contains the probability of the 30 alphabets which we defined earlier.  "
      ],
      "metadata": {
        "id": "UoKB-OwvdpkY"
      }
    },
    {
      "cell_type": "code",
      "source": [
        "# the ctc loss function\n",
        "def ctc_lambda_func(args):\n",
        "    y_pred, labels, input_length, label_length = args\n",
        "    # the 2 is critical here since the first couple outputs of the RNN\n",
        "    # tend to be garbage\n",
        "    y_pred = y_pred[:, 2:, :]\n",
        "    return K.ctc_batch_cost(labels, y_pred, input_length, label_length)"
      ],
      "metadata": {
        "execution": {
          "iopub.status.busy": "2024-04-06T01:59:18.978928Z",
          "iopub.execute_input": "2024-04-06T01:59:18.979364Z",
          "iopub.status.idle": "2024-04-06T01:59:18.987017Z",
          "shell.execute_reply.started": "2024-04-06T01:59:18.979325Z",
          "shell.execute_reply": "2024-04-06T01:59:18.98565Z"
        },
        "trusted": true,
        "id": "I4kXzocKdpkY"
      },
      "execution_count": null,
      "outputs": []
    },
    {
      "cell_type": "code",
      "source": [
        "labels = Input(name='gtruth_labels', shape=[max_str_len], dtype='float32')\n",
        "input_length = Input(name='input_length', shape=[1], dtype='int64')\n",
        "label_length = Input(name='label_length', shape=[1], dtype='int64')\n",
        "\n",
        "ctc_loss = Lambda(ctc_lambda_func, output_shape=(1,), name='ctc')([y_pred, labels, input_length, label_length])\n",
        "model_final = Model(inputs=[input_data, labels, input_length, label_length], outputs=ctc_loss)"
      ],
      "metadata": {
        "execution": {
          "iopub.status.busy": "2024-04-06T01:59:27.097971Z",
          "iopub.execute_input": "2024-04-06T01:59:27.098394Z",
          "iopub.status.idle": "2024-04-06T01:59:27.237284Z",
          "shell.execute_reply.started": "2024-04-06T01:59:27.098356Z",
          "shell.execute_reply": "2024-04-06T01:59:27.235362Z"
        },
        "trusted": true,
        "id": "tM2uwfzUdpkY"
      },
      "execution_count": null,
      "outputs": []
    },
    {
      "cell_type": "code",
      "source": [
        "from keras.models import load_model\n",
        "\n",
        "# Load the model ( same as above)\n",
        "model = load_model('my_model.h5')"
      ],
      "metadata": {
        "id": "A6ZDxbUvFGsg"
      },
      "execution_count": null,
      "outputs": []
    },
    {
      "cell_type": "markdown",
      "source": [
        "## Train our model"
      ],
      "metadata": {
        "id": "7-jLuCgPdpkY"
      }
    },
    {
      "cell_type": "code",
      "source": [
        "# the loss calculation occurs elsewhere, so we use a dummy lambda function for the loss\n",
        "model_final.compile(loss={'ctc': lambda y_true, y_pred: y_pred}, optimizer=Adam(lr = 0.0001))\n",
        "model_final.fit(x=[train_x, train_y, train_input_len, train_label_len], y=train_output,\n",
        "                validation_data=([valid_x, valid_y, valid_input_len, valid_label_len], valid_output),\n",
        "                epochs=25, batch_size=128)\n",
        "# Highly Recommended to use TPU to make this faster"
      ],
      "metadata": {
        "execution": {
          "iopub.status.busy": "2024-04-06T07:01:48.106921Z",
          "iopub.execute_input": "2024-04-06T07:01:48.107377Z",
          "iopub.status.idle": "2024-04-06T07:01:48.15051Z",
          "shell.execute_reply.started": "2024-04-06T07:01:48.107335Z",
          "shell.execute_reply": "2024-04-06T07:01:48.148581Z"
        },
        "trusted": true,
        "id": "sXtrJ8JjdpkY",
        "outputId": "27927f3c-6cdd-4e61-c359-ae055c30d1a0",
        "colab": {
          "base_uri": "https://localhost:8080/"
        }
      },
      "execution_count": null,
      "outputs": [
        {
          "output_type": "stream",
          "name": "stderr",
          "text": [
            "WARNING:absl:`lr` is deprecated in Keras optimizer, please use `learning_rate` or use the legacy optimizer, e.g.,tf.keras.optimizers.legacy.Adam.\n"
          ]
        },
        {
          "output_type": "stream",
          "name": "stdout",
          "text": [
            "[[[[1.        ]\n",
            "   [1.        ]\n",
            "   [1.        ]\n",
            "   ...\n",
            "   [1.        ]\n",
            "   [1.        ]\n",
            "   [1.        ]]\n",
            "\n",
            "  [[1.        ]\n",
            "   [1.        ]\n",
            "   [1.        ]\n",
            "   ...\n",
            "   [1.        ]\n",
            "   [1.        ]\n",
            "   [1.        ]]\n",
            "\n",
            "  [[1.        ]\n",
            "   [1.        ]\n",
            "   [1.        ]\n",
            "   ...\n",
            "   [1.        ]\n",
            "   [1.        ]\n",
            "   [1.        ]]\n",
            "\n",
            "  ...\n",
            "\n",
            "  [[1.        ]\n",
            "   [1.        ]\n",
            "   [1.        ]\n",
            "   ...\n",
            "   [1.        ]\n",
            "   [1.        ]\n",
            "   [1.        ]]\n",
            "\n",
            "  [[1.        ]\n",
            "   [1.        ]\n",
            "   [1.        ]\n",
            "   ...\n",
            "   [0.96862745]\n",
            "   [0.99607843]\n",
            "   [1.        ]]\n",
            "\n",
            "  [[1.        ]\n",
            "   [1.        ]\n",
            "   [1.        ]\n",
            "   ...\n",
            "   [1.        ]\n",
            "   [0.99607843]\n",
            "   [0.99607843]]]\n",
            "\n",
            "\n",
            " [[[1.        ]\n",
            "   [1.        ]\n",
            "   [1.        ]\n",
            "   ...\n",
            "   [1.        ]\n",
            "   [1.        ]\n",
            "   [1.        ]]\n",
            "\n",
            "  [[1.        ]\n",
            "   [1.        ]\n",
            "   [1.        ]\n",
            "   ...\n",
            "   [1.        ]\n",
            "   [1.        ]\n",
            "   [1.        ]]\n",
            "\n",
            "  [[1.        ]\n",
            "   [1.        ]\n",
            "   [1.        ]\n",
            "   ...\n",
            "   [1.        ]\n",
            "   [1.        ]\n",
            "   [1.        ]]\n",
            "\n",
            "  ...\n",
            "\n",
            "  [[1.        ]\n",
            "   [1.        ]\n",
            "   [1.        ]\n",
            "   ...\n",
            "   [1.        ]\n",
            "   [1.        ]\n",
            "   [1.        ]]\n",
            "\n",
            "  [[1.        ]\n",
            "   [1.        ]\n",
            "   [1.        ]\n",
            "   ...\n",
            "   [1.        ]\n",
            "   [1.        ]\n",
            "   [1.        ]]\n",
            "\n",
            "  [[1.        ]\n",
            "   [1.        ]\n",
            "   [1.        ]\n",
            "   ...\n",
            "   [1.        ]\n",
            "   [1.        ]\n",
            "   [1.        ]]]\n",
            "\n",
            "\n",
            " [[[1.        ]\n",
            "   [1.        ]\n",
            "   [1.        ]\n",
            "   ...\n",
            "   [1.        ]\n",
            "   [1.        ]\n",
            "   [1.        ]]\n",
            "\n",
            "  [[1.        ]\n",
            "   [1.        ]\n",
            "   [1.        ]\n",
            "   ...\n",
            "   [1.        ]\n",
            "   [1.        ]\n",
            "   [1.        ]]\n",
            "\n",
            "  [[1.        ]\n",
            "   [1.        ]\n",
            "   [1.        ]\n",
            "   ...\n",
            "   [1.        ]\n",
            "   [1.        ]\n",
            "   [1.        ]]\n",
            "\n",
            "  ...\n",
            "\n",
            "  [[1.        ]\n",
            "   [1.        ]\n",
            "   [1.        ]\n",
            "   ...\n",
            "   [1.        ]\n",
            "   [1.        ]\n",
            "   [1.        ]]\n",
            "\n",
            "  [[1.        ]\n",
            "   [1.        ]\n",
            "   [1.        ]\n",
            "   ...\n",
            "   [1.        ]\n",
            "   [1.        ]\n",
            "   [1.        ]]\n",
            "\n",
            "  [[1.        ]\n",
            "   [1.        ]\n",
            "   [1.        ]\n",
            "   ...\n",
            "   [1.        ]\n",
            "   [1.        ]\n",
            "   [1.        ]]]\n",
            "\n",
            "\n",
            " ...\n",
            "\n",
            "\n",
            " [[[1.        ]\n",
            "   [1.        ]\n",
            "   [1.        ]\n",
            "   ...\n",
            "   [1.        ]\n",
            "   [1.        ]\n",
            "   [1.        ]]\n",
            "\n",
            "  [[1.        ]\n",
            "   [1.        ]\n",
            "   [1.        ]\n",
            "   ...\n",
            "   [1.        ]\n",
            "   [1.        ]\n",
            "   [1.        ]]\n",
            "\n",
            "  [[1.        ]\n",
            "   [1.        ]\n",
            "   [1.        ]\n",
            "   ...\n",
            "   [1.        ]\n",
            "   [1.        ]\n",
            "   [1.        ]]\n",
            "\n",
            "  ...\n",
            "\n",
            "  [[1.        ]\n",
            "   [1.        ]\n",
            "   [1.        ]\n",
            "   ...\n",
            "   [0.99607843]\n",
            "   [0.98823529]\n",
            "   [0.84705882]]\n",
            "\n",
            "  [[1.        ]\n",
            "   [1.        ]\n",
            "   [1.        ]\n",
            "   ...\n",
            "   [0.98823529]\n",
            "   [0.99607843]\n",
            "   [0.99215686]]\n",
            "\n",
            "  [[1.        ]\n",
            "   [1.        ]\n",
            "   [1.        ]\n",
            "   ...\n",
            "   [1.        ]\n",
            "   [0.98823529]\n",
            "   [1.        ]]]\n",
            "\n",
            "\n",
            " [[[1.        ]\n",
            "   [1.        ]\n",
            "   [1.        ]\n",
            "   ...\n",
            "   [1.        ]\n",
            "   [1.        ]\n",
            "   [1.        ]]\n",
            "\n",
            "  [[1.        ]\n",
            "   [1.        ]\n",
            "   [1.        ]\n",
            "   ...\n",
            "   [1.        ]\n",
            "   [1.        ]\n",
            "   [1.        ]]\n",
            "\n",
            "  [[1.        ]\n",
            "   [1.        ]\n",
            "   [1.        ]\n",
            "   ...\n",
            "   [1.        ]\n",
            "   [1.        ]\n",
            "   [1.        ]]\n",
            "\n",
            "  ...\n",
            "\n",
            "  [[1.        ]\n",
            "   [1.        ]\n",
            "   [1.        ]\n",
            "   ...\n",
            "   [1.        ]\n",
            "   [1.        ]\n",
            "   [1.        ]]\n",
            "\n",
            "  [[1.        ]\n",
            "   [1.        ]\n",
            "   [1.        ]\n",
            "   ...\n",
            "   [1.        ]\n",
            "   [1.        ]\n",
            "   [1.        ]]\n",
            "\n",
            "  [[1.        ]\n",
            "   [1.        ]\n",
            "   [1.        ]\n",
            "   ...\n",
            "   [1.        ]\n",
            "   [1.        ]\n",
            "   [1.        ]]]\n",
            "\n",
            "\n",
            " [[[1.        ]\n",
            "   [1.        ]\n",
            "   [1.        ]\n",
            "   ...\n",
            "   [1.        ]\n",
            "   [1.        ]\n",
            "   [1.        ]]\n",
            "\n",
            "  [[1.        ]\n",
            "   [1.        ]\n",
            "   [1.        ]\n",
            "   ...\n",
            "   [1.        ]\n",
            "   [1.        ]\n",
            "   [1.        ]]\n",
            "\n",
            "  [[1.        ]\n",
            "   [1.        ]\n",
            "   [1.        ]\n",
            "   ...\n",
            "   [1.        ]\n",
            "   [1.        ]\n",
            "   [1.        ]]\n",
            "\n",
            "  ...\n",
            "\n",
            "  [[1.        ]\n",
            "   [1.        ]\n",
            "   [1.        ]\n",
            "   ...\n",
            "   [1.        ]\n",
            "   [0.99215686]\n",
            "   [1.        ]]\n",
            "\n",
            "  [[1.        ]\n",
            "   [1.        ]\n",
            "   [1.        ]\n",
            "   ...\n",
            "   [0.98039216]\n",
            "   [1.        ]\n",
            "   [0.99607843]]\n",
            "\n",
            "  [[1.        ]\n",
            "   [1.        ]\n",
            "   [1.        ]\n",
            "   ...\n",
            "   [0.99215686]\n",
            "   [1.        ]\n",
            "   [0.99215686]]]]\n",
            "Epoch 1/25\n",
            "235/235 [==============================] - 326s 1s/step - loss: 21.5406 - val_loss: 21.4098\n",
            "Epoch 2/25\n",
            "235/235 [==============================] - 317s 1s/step - loss: 17.5571 - val_loss: 33.9278\n",
            "Epoch 3/25\n",
            "235/235 [==============================] - 317s 1s/step - loss: 6.9481 - val_loss: 9.8180\n",
            "Epoch 4/25\n",
            "235/235 [==============================] - 317s 1s/step - loss: 3.6625 - val_loss: 3.9306\n",
            "Epoch 5/25\n",
            "235/235 [==============================] - 316s 1s/step - loss: 2.7891 - val_loss: 8.2786\n",
            "Epoch 6/25\n",
            "235/235 [==============================] - 316s 1s/step - loss: 2.4010 - val_loss: 16.9189\n",
            "Epoch 7/25\n",
            "235/235 [==============================] - 316s 1s/step - loss: 2.1538 - val_loss: 2.3704\n",
            "Epoch 8/25\n",
            "235/235 [==============================] - 320s 1s/step - loss: 1.9825 - val_loss: 3.2839\n",
            "Epoch 9/25\n",
            "235/235 [==============================] - 319s 1s/step - loss: 1.8315 - val_loss: 3.0015\n",
            "Epoch 10/25\n",
            "235/235 [==============================] - 319s 1s/step - loss: 1.7282 - val_loss: 6.0553\n",
            "Epoch 11/25\n",
            "235/235 [==============================] - 317s 1s/step - loss: 1.6337 - val_loss: 8.1156\n",
            "Epoch 12/25\n",
            "235/235 [==============================] - 316s 1s/step - loss: 1.5429 - val_loss: 5.1326\n",
            "Epoch 13/25\n",
            "235/235 [==============================] - 318s 1s/step - loss: 1.4678 - val_loss: 2.2850\n",
            "Epoch 14/25\n",
            "235/235 [==============================] - 317s 1s/step - loss: 1.3887 - val_loss: 1.9029\n",
            "Epoch 15/25\n",
            "235/235 [==============================] - 317s 1s/step - loss: 1.3089 - val_loss: 1.9430\n",
            "Epoch 16/25\n",
            "235/235 [==============================] - 318s 1s/step - loss: 1.2349 - val_loss: 3.6585\n",
            "Epoch 17/25\n",
            "235/235 [==============================] - 318s 1s/step - loss: 1.1763 - val_loss: 2.0067\n",
            "Epoch 18/25\n",
            "235/235 [==============================] - 319s 1s/step - loss: 1.1076 - val_loss: 1.9055\n",
            "Epoch 19/25\n",
            "235/235 [==============================] - 318s 1s/step - loss: 1.1305 - val_loss: 9.9418\n",
            "Epoch 20/25\n",
            "235/235 [==============================] - 318s 1s/step - loss: 1.2161 - val_loss: 53.1889\n",
            "Epoch 21/25\n",
            "235/235 [==============================] - 318s 1s/step - loss: 1.0101 - val_loss: 1.8282\n",
            "Epoch 22/25\n",
            "235/235 [==============================] - 316s 1s/step - loss: 0.9101 - val_loss: 4.4404\n",
            "Epoch 23/25\n",
            "235/235 [==============================] - 316s 1s/step - loss: 0.8340 - val_loss: 2.8242\n",
            "Epoch 24/25\n",
            "235/235 [==============================] - 318s 1s/step - loss: 0.7650 - val_loss: 2.4385\n",
            "Epoch 25/25\n",
            "235/235 [==============================] - 317s 1s/step - loss: 0.6885 - val_loss: 2.4486\n"
          ]
        },
        {
          "output_type": "execute_result",
          "data": {
            "text/plain": [
              "<keras.src.callbacks.History at 0x7ea33c29fcd0>"
            ]
          },
          "metadata": {},
          "execution_count": 26
        }
      ]
    },
    {
      "cell_type": "markdown",
      "source": [
        "## Check model performance on validation set"
      ],
      "metadata": {
        "id": "GsJaUAe8dpkY"
      }
    },
    {
      "cell_type": "code",
      "source": [
        "# Assuming your model is named 'model'\n",
        "# Saving model to reduce model creation time for further use\n",
        "model.save('/content/model.h5')\n"
      ],
      "metadata": {
        "execution": {
          "iopub.status.busy": "2024-04-06T03:41:06.963774Z",
          "iopub.execute_input": "2024-04-06T03:41:06.964363Z",
          "iopub.status.idle": "2024-04-06T03:41:40.145666Z",
          "shell.execute_reply.started": "2024-04-06T03:41:06.964316Z",
          "shell.execute_reply": "2024-04-06T03:41:40.144595Z"
        },
        "trusted": true,
        "id": "J_v5acDsdpkZ",
        "colab": {
          "base_uri": "https://localhost:8080/"
        },
        "outputId": "8398540e-58a0-4718-f22e-1ba2b980b44d"
      },
      "execution_count": null,
      "outputs": [
        {
          "output_type": "stream",
          "name": "stderr",
          "text": [
            "/usr/local/lib/python3.10/dist-packages/keras/src/engine/training.py:3103: UserWarning: You are saving your model as an HDF5 file via `model.save()`. This file format is considered legacy. We recommend using instead the native Keras format, e.g. `model.save('my_model.keras')`.\n",
            "  saving_api.save_model(\n",
            "WARNING:tensorflow:Compiled the loaded model, but the compiled metrics have yet to be built. `model.compile_metrics` will be empty until you train or evaluate the model.\n"
          ]
        }
      ]
    },
    {
      "cell_type": "code",
      "source": [
        "# storing both formats of the model file\n",
        "model.save('/content/model.keras')\n"
      ],
      "metadata": {
        "id": "CJgiYgkkAnrl"
      },
      "execution_count": null,
      "outputs": []
    },
    {
      "cell_type": "code",
      "source": [
        "# Prediction\n",
        "preds = model.predict(valid_x)\n",
        "decoded = K.get_value(K.ctc_decode(preds, input_length=np.ones(preds.shape[0])*preds.shape[1],\n",
        "                                   greedy=True)[0][0])\n",
        "\n",
        "prediction = []\n",
        "for i in range(valid_size):\n",
        "    prediction.append(num_to_label(decoded[i]))\n",
        "print(prediction)"
      ],
      "metadata": {
        "execution": {
          "iopub.status.busy": "2024-04-06T03:42:17.503416Z",
          "iopub.execute_input": "2024-04-06T03:42:17.504114Z",
          "iopub.status.idle": "2024-04-06T03:42:52.941416Z",
          "shell.execute_reply.started": "2024-04-06T03:42:17.504055Z",
          "shell.execute_reply": "2024-04-06T03:42:52.940239Z"
        },
        "trusted": true,
        "id": "KY80fSSldpkZ",
        "outputId": "32e3ebc9-1ed3-469e-da9b-58f5f8c37997",
        "colab": {
          "base_uri": "https://localhost:8080/"
        }
      },
      "execution_count": null,
      "outputs": [
        {
          "output_type": "stream",
          "name": "stdout",
          "text": [
            "94/94 [==============================] - 82s 876ms/step\n",
            "['BILEL', 'LAUMONIER', 'LEA', 'JEAN-ROCH', 'RUPP', 'PICHON', 'DANIEL', 'JEREMY', 'JENN-MICHEL', 'JULIEN', 'NAEL', 'NBILGER', 'TIFFANY', 'ELEEN', 'ANTOINE', 'AYOUD', 'MINETTE', 'RAINGEVAL', 'CELESTIN', 'DIBENEDETTO', 'MATHIS', 'LOUNA', 'SEVESTRE', 'DEVANLAY', 'HOCQUARD', 'LEBRUN', 'DABIN', 'SENDOUBI', 'DI PASQUAL', 'PRIVAT', 'HUGO', 'MAONI', 'COTTIGNY', 'SARRAZIN', 'FRERE', 'MONSOH', 'PELKERROUE', 'CLEMENT', 'ALLEMBRAND', 'CASSANDRA', 'VIEILLE', 'VAUTIER', 'LOUSSF', 'DURRNR', 'ENNIO', 'ALYSSIA', 'RUIZ', 'LIZANA', 'CAMILLE', 'JULIE', 'ELIA', 'AXFL', 'ANTOINE', 'NION', 'RICHAKD', 'COUNAC', 'DAVOULT', 'SHAD', 'DUBOIS', 'NAU', 'JULIEN', 'BENGT', 'DAUID', 'THOMAS', 'VAILLANT', 'JOAO', 'LYLOU', 'CARA', 'TABUT', 'PELLETIER', 'AUTRET', 'CHECROUN', 'VASSEUR', 'FAURE', 'EMMA', 'ARTHUR', 'FRIMIN', 'PNAELLE', 'QUEON', 'RAPHEL', 'VANTOMMF', 'ONNES', 'ANTOINE', 'ANDRANIK', 'LUCAS', 'CELIA', 'LOURENCO', 'MAYLIS', 'LUCIE', 'DEBARD', 'DEPAQUY', 'VERMILLE', 'SORRISE', 'HUGO', 'CRUSSIERE', 'THEANA', 'LEDROLE', 'BERNARD', 'VALENTINE', 'GABRIELLE', 'CLOE', 'BONNE', 'ELOURFA', 'MORGANC', 'ROZENN', 'JULAN', 'ANTHONY', 'LEA', 'WALID', 'HEDDEBAUX', 'LUCAS', 'TEO', 'DEHEESTERE', 'COSSONDRO', 'CZO', 'DO ROSARIO', 'JAHIER', 'DYANA', 'FRENOT', 'VIDAL', 'CAMBE', 'PERITO', 'CHIPRET', 'CAMPOLO', 'ELIFETOUAKT', 'JUOTIN', 'SOLENE', 'GEMAN', 'LOU-ANNI', 'LETTAO PE', 'AYEL', 'MOUDOT-HERRIG', 'ASNARD', 'MASSINE', 'NOE', 'SALLOT', 'GIDIK', 'CLEMENCE', 'ELYCIA', 'EISA', 'LEICAM', 'GOLGOLAB', 'BRICE', 'RANBAUD', 'ROMANE', 'OGELOEN', 'NINE', 'MAHE', 'MAYRA', 'PIGA', 'CACHOT', 'ABDELKARIN', 'GENDRON', 'CASSIOPEE', 'ROBIN', 'MANON', 'TIMOTHEE', 'LEMAXIE', 'OLIVIER', 'BOUSTANA', 'PIERRE', 'SOPHIE', 'FONDERA', 'LUCZKOW', 'ALYSON', 'PAMILA', 'COLOVIC', 'VOINCHET', 'KAWTOR', 'BINAULT', 'BAKOUR', 'FOLIARD', 'LECOMTE', 'BUSIN', 'PARRET', 'MADELINE', 'RELLOCOL', 'GUENOLE', 'SELLAY-APUN', 'JOBIN', 'BUTCZ', 'LOUIS-AUXENCE', 'SIXTINE', 'GAMBIER', 'ELHADI', 'CYRIL', 'EMMA', 'GAUTIER', 'DEL PRETE', 'CLARA', 'BLONDEAU', 'SOELIC MARE', 'NDGHA', 'MATTEO', 'ADRIEN', 'ILYAS', 'TRUMCAU', 'PONTVERTTOE', 'SIM', 'CAKIR', 'AMSSATOU', 'AUBRY', 'TITOUAN', 'METSCHIF', 'FRASILE', 'ZIA', 'CHARBONNEUX', 'ALEXIS', 'PERROT', 'CROZAT', 'GUYLANN', 'ACHILLE', 'WLODAROZK', 'ANANDINE', 'TESTAERT', 'PAUL', 'THOMAS', 'AYMERIC', 'TOM-ELIOTT', 'MATEO', 'GUILHEM', 'ROMANE', 'LOUEDIN', 'CAMILLE', 'DE AMDRIN', 'ALLAN', 'VALENTIN', 'SAMBOU', 'DE RICARDIESTE', 'ELODIE', 'BEYOU', 'DESMURGER', 'DENIS', 'VALERIAN', 'MELINE', 'SCHAETDER', 'LOGAN', 'MATEO', 'BILLARD', 'AUTT', 'UENGUIOUE', 'CAPUCINE', 'DSEMA', 'ANORIEUX', 'VEREL', 'PARADOWSKI', 'FLORIAN', 'PYAN', 'TOM', 'LLLOU', 'JULIEN', 'THOMAS', 'LOUISI', 'LEA', 'JEAN-ZAVIER', 'QUENTIN', 'COURJON', 'LEMU', 'HUQGHE', 'AYMERIC', 'PELLETIER', 'LE HEBEL', 'ELODIE', 'VUUT', 'FLAVIGNY', 'DEBARNOT', 'HUGO', 'CHRISTOPHE', 'BENOTT', 'SAIOA', 'OLIVIER', 'SCHWARTZ', 'ALYSSA', 'ALISADDI', 'MATHILDE', 'AXELLE', 'COMBAREL', 'MARTIN', 'AYEB', 'LANCEAU', 'MATHILDE', 'DAPHNE', 'MATRO', 'BELIN', 'JACQUEY', 'FOURNET', 'AUGUSTE', 'AMELIE', 'CLEMENT', 'ABOYGAELCE', 'DALLIER', 'ALEXIS', 'IBOUZITEN', 'OKAMOIOMITO', 'MATHIEU', 'MARGOT', 'ANTOINE', 'LOGANE', 'YUSUF', 'BORDIER', 'BLONDE', 'LAURY', 'LOBSANG', 'ROMAIN', 'ANNA', 'MIRI', 'LLS', 'PUECH', 'EDMOND', 'JULIETTO', 'PIERRE', 'LEBOBE', 'GARRIGUES', 'VL', 'TALLULAH', 'RIGAULT', 'REDOULET', 'LESUR', 'MORIN', 'THIBOULL', 'NINO', 'LE MORVAN', 'FRANCOIS', 'GROENEN', 'VAURY', 'AURELIEN', 'AIT KADOUR', 'PY', 'HUUGIUGER', 'PIGUIERES', 'CORALIE', 'CHLOE', 'MASGERON', 'EVA', 'ELONDJA', 'FLORION', 'EMY', 'MELINDH', 'LAURA', 'DEUUD', 'CLARA', 'ANATS', 'CELIA', 'SUDRE', 'ADELE', 'LINCK', 'LRESSIOT', 'LECOMTE', 'JADE', 'DOMINGUEZ', 'MARGAUX', 'DANOINE', 'LEA', 'TILLY', 'ZOLLINGER', 'JULIE', 'YEPHO', 'SALAUN', 'XOULBREQUE', 'LOCASS', 'COLIN', 'GARCIA', 'AIT HAMID', 'MSY', 'COURTELLEMONT', 'CARLA', 'LAURIC', 'TESSA', 'DIABIRA', 'BA', 'BOULINEAU', 'AIKO', 'NATHAN', 'MANON', 'MERIGON', 'CLAVEL', 'VANDENABESLE', 'LE FRIEC', 'MUENTIN', 'ROCHE', 'ROBERTIES', 'SHANA', 'ALEXANORE', 'CLEMENT', 'MARTIN', 'CLEMENT', 'EOUPIN', 'FANGTTE', 'GUILLERY', 'SOFIA', 'ALEXIS', 'CLERC', 'FLAVIE', 'LUCIE', 'MEYER', 'CLAUDINE', 'DELAVIGNE', 'AMSLLO', 'CLARA', 'TIFGAU', 'ALICTA', 'LEGRAND', 'COLINOT', 'GERAUD', 'TROISMOULE', 'DO VALE', 'PAMOT', 'BALOUSAT', 'ELISE', 'VICTORIA', 'LEBON', 'JELONNND', 'ROQUELAURE', 'THERET', 'BASWOLUK', 'LAURINE', 'EDOUARD', 'CLARA', 'PONTET', 'OSCAR', 'LEOVIE', 'CARVALHO', 'PERROIS', 'TITOUAN', 'MALO', 'EVAN', 'SAMI', 'DANIEL', 'KHOURY', 'DOMINGUES', 'AURELIE', 'REMI', 'PIERREFEU', 'OURY', 'LOU', 'YELIX', 'PAULIN', 'CHEMINEL', 'OMRI', 'LUCAS', 'GABRIEL', 'LEBOIS', 'PEUIC', 'GAUDET', 'PHILIPPE', 'MARBOEUT', 'MARIE', 'RICHARD', 'THOMAS', 'CHODIN', 'BEAUVERGER', 'YANNIS', 'FILLICRES', 'CLIAS', 'CHAIMAC', 'COLINE', 'JEREMY', 'AST', 'KHADIM-SOPHANE', 'LOYEZ', 'ALEXANDRE', 'LOREYA', 'KIJUN', 'GRILLOT', 'LECOINTRE', 'ALICIA', 'KOYAGH', 'VECONIC', 'VINES', 'VALLON', 'DENECHAU', 'BLANC', 'VICK', 'COTARD', 'LEONIE', 'AMBRE', 'AIBRTL', 'RENON', 'VALENTINE', 'KELLY', 'ANTONYLAUREN', 'PERBET', 'VIRGILE', 'BEMGAMIN', 'PETIMAT', 'LEONORE', 'SANS', 'ELISA', 'JULIEN', 'GADIN', 'MOHAMED', 'TKEBUCHAVA', 'AXELLE', 'CIBEER', 'BAUDRY', 'SILOE', 'SIMON', 'CLAVEAU', 'BILLAUDAZ', 'PERROT', 'MORANDDES', 'MANILLE', 'JULES', 'GORON', 'ANTOINE', 'QUENTIN', 'AUFFRET', 'DIANE', 'ARABI', 'LEPENIEC', 'LETESSIER', 'TOM', 'EMIE', 'YANN', 'CELESTINE', 'CIEMENT', 'LISE', 'LORA', 'ADONIS', 'GRELET', 'AGNES', 'JULIETTE', 'MARIE-HONDARY', 'SOPHIE', 'MILLETI', 'NTOUTOUME', 'ALEXANDRA', 'COLLIGNON', 'CERVEAUX', 'BOURG', 'ETIGANG', 'MAELLE', 'MIRINA', 'LIA', 'BGRNARD', 'OUDIN', 'VALENTIN', 'ERINE', 'SOUAMES', 'CHARLOTTE', 'FALAGUASTA', 'ATCHA', 'CHAUVEL', 'EDEN', 'ENOTS', 'THENOZ', 'ACKET', 'ROMY', 'BURDES', 'LOIC', 'LEO', 'ALORAMARIG', 'LAVOCAT', 'MASART', 'JORAN', 'DARYL', 'GOMAR', 'KHALIDA', 'DARIUS', 'LOUIS', 'BARRIERE', 'GUILLAUD', 'ELISA', 'MICHEL', 'MATTHIEU', 'COLLET', 'MATHILDE', 'DUDOGNON', 'HUGO', 'BERTHAULE', 'OUARRIYM', 'ASHY', 'JANSI', 'FORTOUL', 'LEMALE', 'MABULLE', 'MAISSANE', 'CALVEZ', 'BERTRANDI', 'VIGNAUD', 'GARISSAT', 'LAMORT', 'HERBE', 'CORDA', 'MATHYS', 'EVY', 'SANDRA', 'LAURE', 'MOUES', 'TAMIOT', 'EPSY', 'JULIA', 'MAIRET', 'JULIA', 'MARIN', 'GBIN', 'LORIS', 'BRCHAUT', 'CONAN', 'BENIER', 'ETHAN', 'LAKHAL', 'DYLAN', 'DOMINIQUE', 'MIGNET', 'DOUARIN', 'EMMA', 'CARNEIRO', 'CAUX', 'PLUMEJAULT', 'FLAVIE', 'OUMEIMA', 'SAMARSKY', 'LISA', 'VALENTINO', 'SAGNIERDONOSO', 'MATTHIEU', 'PIERRE-LOUIS', 'EMMYROSE', 'BUISINE', 'PUENTIN', 'MOUHEB', 'BRAYELLE', 'MYA', 'DESHOUTE', 'ERIC', 'AXELLE', 'BOUTEAU', 'VALENTINE', 'LEA', 'LOUIS', 'MATTEO', 'ALEXIS', 'GHENAM', 'PAMPALONT', 'CELESTIN', 'MARQUIS', 'ESTEBAN', 'JACQ', 'MOINETILOMBROSC', 'LUCAS', 'DO NASCIMENTO', 'NOA', 'BENAMCUR', 'ANTOINE', 'LERIOUX', 'HUGO', 'COLLANGE', 'JAMIN', 'SARA', 'SEVERINE', 'TIFIANY', 'ADNAN', 'MATHIS', 'NBOUILLE', 'DEWULP - DADE', 'ELOUAN', 'ABOUELQUASSIM', 'KRATE-WALSS', 'HELLEBOID', 'LOOUTM', 'FIERS', 'BERRTER', 'GRABIASZ', 'AORIEN', 'JUSTINE', 'CONROY', 'GUILLOT', 'ELODIE', 'ARNAUDIES', 'MORIN', 'LOUIST', 'NARDONE', 'AVA', 'TITOUAN', 'BARCELLA', 'LOANN', 'MARSAN', 'HURTEVENT', 'ALEXANE', 'CLARA', 'BOUVET', 'FLAVIEN', 'LILA', 'MAGAZIN', 'SICART', 'BILLARD', 'CLARA', 'LDONNY', 'PUJOLS', 'GRUSON', 'MOVLINET', 'ENORA', 'NPNDOU', 'ANGELO', 'RID', 'VICTORIA', 'ILYAS', 'VACTORIA', 'GAURANT', 'MAELYS', 'BAPTISTE', 'PEROCHEAU', 'SANISSA', 'POTUER', 'LAFAGE', 'ZIOUECHE', 'BADRA', 'ANTONIN', 'JUSTINE', 'BOUDSELLAL', 'MARIANNE', 'DEZARD', 'CHARLY', 'LINP', 'ABASSA', 'COTTO', 'ROMAIN', 'OCEANE', 'GRDIN', 'CHARLOTTE', 'PAIK', 'ETLINIM', 'FLORIAN', 'MACHTING', 'LISON', 'ZIANE', 'ROMAN', 'CAMILLE', 'REMI', 'DENIS- LECLERCQ', 'LILIAN', 'LAVENNE', 'CAPUCINE', 'HUYNH', 'NINO', 'GAUTIER', 'EVA', 'NATHAN', 'ELENA', 'PEUTHER', 'DORVAL', 'JAMES', 'TINAUG', 'ANNA', 'THOMAS', 'LEA', 'ADELINE', 'NCOPITET', 'LEFEVRE', 'JULIE', 'COMPAGNON', 'YANNICK', 'SAMAM', 'SIETTE', 'BERNOT', 'DROUARD', 'ZOE', 'BAUDOT', 'ANDRIAMINE', 'MOCHEVILLE', 'MOHWEDIREO', 'CLEMENCE', 'EMMM', 'QUENTIN', 'ELSA', 'BEAUTE', 'THOMAS', 'GABRIEL', 'LEA', 'COLOMBE', 'ROUSSEAU', 'MALINOWSKI', 'REDOULLE', 'POLIL', 'RATTCHAUX', 'LGORGELIER', 'AXEL', 'THLEB HHMED', 'MANILLE', 'MAURIAL', 'DOYART', 'PLUCIENNIK', 'BIENAIME', 'LEVANA', 'ULYSSE', 'LAURENT', 'ARLAS', 'YANIS', 'DEMIRELISCI', 'SAMI KOE', 'MIGUEL', 'ZHENG', 'LEIMENN', 'PTUGIE', 'YURNT', 'GUEHERY', 'ALEXIS', 'MICHEL', 'ANTOINE', 'FERRIOL', 'TALEB', 'DUQUET', 'DORIAN', 'SERRES', 'OUBOUHOU', 'RYAD', 'PAILHES', 'BOUDTELION', 'BUENO', 'HERISSONTSE', 'NATHALIE', 'LYLIAN', 'MAWA', 'FAVIER', 'VARLET', 'KAMOUL', 'DEPIEV', 'RAJAKUMAR', 'NICOLAG', 'MATHILDE', 'SOLENE', 'SALOME', 'BRUNET', 'RZEPKA', 'KLINY', 'AUBERTIN', 'RAYAN', 'SLOTWINSKI', 'CORENTIN', 'CELIA', 'CERVO VECCHIO', 'NATERKEYN', 'LOUTS', 'MATTEO', 'LORETTE', 'LISA', 'TITOUAN', 'FAYSAL', 'MANGEAT', 'MAXINE', 'BRECHET', 'GARGIN', 'YANIS', 'RAYANE', 'KELVIN', 'HUMEN', 'MELISSA', 'SARA', 'SEHEMY', 'SHANNON', 'SNEIN', 'LUDOVIC', 'VEAPTMRY', 'ZAFFRAN', 'LEO', 'ALEXIA', 'LUCILE', 'BASTIEN', 'JACCOD', 'RHARSALLA', 'PAILLARD', 'LOUANN', 'CASTELLE', 'MMUTY', 'KYLIAN', 'ELISC', 'PIRES', 'PARIENTE', 'ARBESA', 'PAUL', 'ALIX', 'CLAIRE', 'JADE', 'SENMITER', 'PAYET-LAB', 'BAYON', 'DEXHEIMER', 'MORANDEAU', 'CORALIE', 'EMMA', 'GLORIN', 'COMBO', 'GUILLAUME', 'ADELINE', 'ALEXIS', 'LOIC', 'GALDERIC', 'LOUIS', 'KLOHR', 'ALEXANDRE', 'SALMA', 'CAMILLE', 'PRISCILLIA', 'LILOU', 'TENAILLEAU', 'MAXENCE', 'ARAORT', 'SYARIEF', 'JULIEN', 'ZOUITA', 'CESCAU', 'BONUN', 'MENDES', 'MARVIN', 'LEPPIEN-PIPION', 'FERET', 'LOANA FLORENCE', 'CAVAGNETSKA', 'VAULTIER', 'FLORIANE', 'DHONDT', 'JOLY', 'JOSEPH THEODOR', 'DRUAIS', 'VAMVAKIDI', 'AMINE', 'POULAIN', 'BENADIBA', '', 'BESSON', 'CHAPUIS', 'MAUNIER', 'FRANCO', 'AYOUDD', 'GAUTIER', 'NOHAN', 'DHAYER', 'AMAURY', 'MESERA', 'RINGEARD', 'CAPPCGART', 'LEO', 'JULIE', 'TARGANT', 'MARIE-ASTRIDE', 'OHIARA', 'BENSAMIN', 'KELLY', 'PIGNOL', 'LEM', 'JASMINE', 'HEPOISE', 'KEVIN', 'BLLESK', 'GURAUNAU', 'JOURDAIN', 'BOUYER', 'VICTOR', 'ELENA', 'ELIS', 'GABRIELLE', 'GOUYOU', 'FLAVIEN', 'SHINO LEGER', 'RABATE', 'PLANTA', 'JAL', 'DE LAIVILLEON', 'GONZALEZ', 'SEUERE', 'CHARLOTTE', 'MEKIN', 'LALOUETTE', 'TNES', 'PAULIN', 'TACHOIRES', 'ICHKHANIAN', 'GABIN', 'ADRET', 'USANO', 'RUBEN', 'SAMUEL', 'RAPHAEL', 'DIRNINGER', 'QUITTERIE', 'ALASSANE', 'VIDAL', 'JULIETTE', 'JULIE', 'SEBBANE', 'CHYC', 'BEGUE', 'FISCHER', 'DUGUIS', 'CAMILLE', 'LEA', 'ALEXANDRE', 'ALEXIS', 'EDOUARD', 'DESOUTTER', 'LINA', 'BESSON', 'ROMANE', 'JADE', 'MARYLOU', 'SOLENE', 'IORISS', 'DOTO', 'LEILA', 'KYLLIAN', 'CELIA', 'BLANDIN', 'ZAIED', 'DIAZ', 'FELOIS', 'ALIXANDRE', 'GAETAN', 'MEFORT', 'IBAN', 'TRIGUEL', 'LOUISE', 'BERTHIER', 'MEHOT', 'SIMON', 'JULIETTE', 'LUNA', 'DANN', 'BETITO', 'GUILLAUME', 'ALEXANTT', 'TEAN MARIE', 'DAUTREPPE', 'ANAUACI', 'ARCHIMBAUD', 'CELIA', 'THIBAUD', 'AKILE', 'YOHAN', 'DELARA', 'CELESTE', 'BLANC SOARES', 'HACHARD', 'HABRANT', 'ZEMZEM', 'LI', 'LORIS', 'OEAMO', 'RONDEAUX', 'EVA', 'MONNIER', 'FLORIANE', 'AUGUSTIN', 'RAGU', 'CHAOUAT', 'ANNA', 'SEGONDS', 'FLAVG', 'RENARD', 'TOLOSA', 'HOUZE', 'MAUD', 'ARE', 'BIGOT', 'CAMILLE', 'COUSIN', 'GUILLOCHON', 'MGUILLEN', 'EMMA', 'GRONDIW', 'POINSEL', 'MAGRI', 'OCZORL', 'FLAVIE', 'COLIN', 'BAPTISTE', 'CLARISSE', 'PIERRE', 'IUVINDLA', 'BENOIT', 'CLEA', 'LISA', 'MOYOT', 'CLEMENCE', 'LOUIG', 'CHEBANCE', 'UROD', 'LOHYA', 'AUMONT', 'EDELAY', 'AROLD', 'YUNG', 'BRESOLIN', 'SCHUMACHER', 'VALENTINE', 'DUBOIS', 'MARY', 'ARTHUR', 'LGANA', 'MARGUERITE', 'AUDRAN', 'BOUCAUN', 'SALOME', 'MARTIN', 'LENA', 'CLEMENCE', 'HAMMER', 'DAHY', 'CIAISYGUILLOT', 'ALEXANDRE', 'CARON', 'BERTHET', 'LAURENT', 'JANGUL', 'MANSEL', 'MARTINETI', 'LE HEBEL', 'MONTIGNY', 'YOUNES', 'BECOURT', 'EVA', 'BERGEREAU', 'SIMON', 'FREY', 'MOREAU', 'BENJAMIN', 'SOFIEN', 'MOISSONNIER', 'CHLOC', 'VUVU-TETANI', 'CLELIA', 'GLARA', 'EVANA', 'LISE', 'CANAULT', 'BOSQUET', 'VALENTINE', 'BANSILLON', 'HEMARD', 'MARTY', 'MARINIE', 'NOAH', 'LECHUGA', 'AKEMI', 'RAYNON', 'GROLLEAU', 'NUSSBAUM', 'LOIC', 'PADOVANI', 'DROUET', 'LEA', 'DAIRE', 'DUSENDSCHON', 'COCHARD', 'SOLA', 'HULLOT', 'LOU', 'VAUBAILLON', 'LEO', 'GABRY', 'COVIN', 'AURORE', 'MAELIE', 'ANNIC', 'CHLOE', 'CELESTE', 'LAURA', 'AYMERIC', 'ALBAN', 'MARQUET', 'ANDREA', 'MILA', 'SELEMA', 'VALENTIN', 'LEANDPC', 'RYAN', 'ENZO', 'DONVAL', 'AKHATAR', 'CILLIAN', 'LUCILE', 'DONIA', 'ADRIEN', 'LAFFARGUE', 'PERRY', 'VANNESTE', 'CHARLOTTE', 'GOKTAS', 'MOUSSAIS', 'MAELYS', 'LITZLLER', 'JULIEN', 'DOUERE', 'DELACROIX', 'YASSINE', 'YACINA', 'ROBIN', 'LSIMON', 'MAXIME', 'GERVOT', 'DEROUBAIX', 'PFEIFFER', 'BALLANDVIGNON', 'ROLLET', 'MANETHEO', 'LAIC', 'RTCHADD', 'THIBAULT', 'MORIET', 'MYKOHO', 'EXBRAYAT', 'COULOUARN', 'BENJAMIN', 'LEILA', 'PAULINE', 'NICOLAS', 'EAL', 'UGO', 'BERNARDINI', 'RUDY', 'OUDART', 'CORDELIA', 'VERDIER', 'ALEXANDER', 'ANTOINE', 'LEMONNIER', 'FRIBOURG', 'AISSAOUI', 'MARIE', 'VIGNOLLE', 'EMILIEN', 'LOIR', 'JADOM', 'BORAZ', 'MULLER', 'JONATHAN', 'JADE', 'DUBESSET', 'PMAXIMICIGN', 'KOENIG', 'GOMMENNE', 'HAUON', 'LASILIER', 'ONUR', 'POITOUT', 'OUBASSOU', 'VALERIUS', 'BENJAMIN', 'YANIS', 'TRABET', 'TACHLM', 'RAPHAEL', 'RIMBERT', 'ALEXIS', 'SETH', 'CONVERS', 'MOAL', 'DELMOYE', 'AZHISDAVY', 'LESGURD', 'ETHAN', 'MOLINARI', 'KORANTIN', 'ASTRIO', 'BARETS', 'MATHIEV', 'BOUDLA', 'EMMA', 'AIBOBO', 'MARION', 'TEANNE', 'ANDREA', 'EMMA', 'ALEXIS', 'PILLET', 'EMPLTY', 'ROPTIN', 'DRAMANE', 'LOONA', 'FOUQUET', 'ANATOLE', 'GUILBAUD', 'WANQUETIN', 'ROHRER', 'LIBERT', 'NINA', 'ROBIN', 'MATHLEU', 'ARNAUD', 'VALENTIN', 'QUIRING', 'NICTOIRE', 'LEMENOREL', 'VICTOIRE', 'HUGO', 'CHABANIER', 'BERYL', 'JULIETTE', 'LEA', 'ANAIS', 'JEAN', 'MAURIN', 'CONCHON', 'LEO', 'ALEXIS', 'RUYSSCHAE', 'CAMBO', 'DEUDON', 'ANTOINE', 'ELINA', 'GOMES', 'COLOMBA', 'SASHA', 'TAREK', 'LENORMANDJAFFR', 'DILA', 'CLAIRE', 'DESCHAMPS', 'NURIA', 'SOFIAMC', 'PETER', 'LOUIS-ANTOINE', 'VANDEPOEU', 'BRYAN', 'LLNEY', 'MAXIMP', 'RAMOS', 'TOM', 'UISE', 'LOUISE', 'VICTORIA', 'ELISE', 'GWENDIG', 'LINGET', 'VITALE', 'RAPHAEL', 'DCOT', 'SOLINE', 'LOUIS', 'AMANDINE', 'EMMA', 'BIGOT', 'RIX', 'BOILON', 'POULAILLER', 'MARCEAU', 'ARTHUR', 'MARION', 'EMMA', 'HANACHE', 'CECCONI', 'CLEMENTINE', 'CLEYET-MAREL', 'JOUSSET', 'BOURDIN', 'BELLINI', 'GOSSELIN', 'TROCME', 'NINON', 'BRICE', 'GURINEAU', 'VIOLET', 'HENRY', 'VALENIIN', 'BENJAMIN', 'ALEXANDRA', 'PUGIN', 'INES', 'NADIR', 'CHRETIEN', 'GUEL', 'RAIMBAULT', 'DINT', 'LUC', 'ROMANE', 'ELISE', 'CHANTEL', 'MANDIER', 'NOA', 'LOUISA', 'SCHATZ', 'GUIBORT', 'FAYET', 'MOTAN', 'FERREIRA', 'THOMAS', 'MEGGIE', 'QUELLECIMICHEA', 'SOLUEIG', 'AMELLE', 'MARIN', 'ELOISE', 'BILLY', 'NUHAMNGA', 'HARRAT', 'NICOLAS', 'JIMON', 'ENZO', 'MALLET', 'BRUNO', 'CLARA', 'ICISS', 'ARTHUR', 'AYOHO', 'ERWAN', 'BODTAU', 'FERRA', 'MOISSON', 'PIERRE', 'SUBRAL', 'HUGO', 'LOISEAU', 'DINCA-ALEXANDR', 'BENZEMMA', 'LILOU', 'MARIE-AMELIE', 'ASSELAH', 'ALICE', 'PANCHOUT', 'CARRE', 'THIBAUDEAU', 'BRAYTON', 'BECHLAGHEM', 'CLEMENT', 'LOU', 'LOIC', 'ALIMGUERLEVO', 'GRISON', 'KOCI', 'PERRIN', 'MATHILDE', 'CHLOE', 'BASTOSIEEINALOL', 'RONDEAU', 'PESQUEIRA', 'REGELAN', 'STERENN', 'DEBOVE', 'MARTINEZ', 'AMELIE', 'REGNAULT', 'LOU-ANNE', 'LOI', 'ETHAN', 'BEAUFILS', 'SIMON', 'VITAL', 'BONQUARD', 'NODIN', 'PITON', 'ALYLIA', 'LISA', 'MENOLLE', 'CORNILY', 'DA VERGA', 'MARIETTE', 'LEO', 'DASTE', 'LEBOUGENT', 'ESTARELLA', 'PAGANELLI', 'GASQUE', 'LATGE', 'LIN', 'TIMOTUE', 'ROBIN', 'BERLIE', 'MANON', 'EMRE', 'ROBIN', 'POUSSIN', 'KAISER', 'KOYLIAM', 'PASTEUR', 'PAULINE', 'LEFEVRE', 'WERNER', 'COWQUCLTE', 'MAILLET', 'GRAF', 'THOMAS', 'GRINCOURT', 'AMBRE', 'LHADARI', 'BAUCHET', 'DEGHORAIN', 'CAMILLE', 'KANNAT', 'VALENTIN', 'MAELYS', 'CHARPENTIE', 'COURTIER', 'YAN', 'GAETAN', 'JOSEPH', 'DARBON', 'YANIS', 'RIRN', 'AEGUER', 'LESCOURGUE', 'MENDELSOHN', 'LOU', 'CORENTIN', 'DENIEL', 'HUET', 'DARNASOUY', 'SIXTINE', 'GARNIER', 'GARNIER', 'BENEZIT', 'FLOCH', 'JADE', 'SAMARA', 'DESCHAMPS', 'THEO', 'WAHIDAL', 'MAXENCE', 'PAULINE', 'HARCHAND', 'TISSERARO', 'NICOLAS', 'WOLFF', 'PIEL', 'REICHARD', 'MATTHIEU', 'BERGER', 'DHARSHIKA', 'PERARD', 'RICARD', 'GAULTIER', 'SARREOU', 'MAYKO', 'MATHIS', 'NOLANN', 'OCEANC', 'CHLOE', 'NAEL', 'MORIZOT', 'VINO', 'MATHAS', 'NORAH', 'RANNOU', 'ALEXANDRE', 'CAMILLE', 'AUDISLO', 'NASSIM', 'MAELYS', 'CHARLOTTE', 'PAUL', 'MASMAS', 'RAPHAEL', 'SARAH', 'GOUESSE', 'DE BERTOULT', 'JOVIC', 'GERARY', 'CAEVALIER', 'TOURNADRE', 'AAND', 'SIMON', 'GUILLOT', 'CONNAN', 'DELORD', 'TRIOPON', 'COLLIN', 'LE CURIEUX', 'FLORIAN', 'AUDREY', 'CARA', 'VILAR', 'NDIFONZO', 'BOGROS', 'MAELYS', 'VINCENT', 'PIERRE', 'MORGANE', 'EVAN', 'BENGRIK', 'SACHA', 'LUCAS', 'LATON', 'SORC', 'VICTOIRE', 'DIGEY', 'BAUDRALLAR', 'EACHE', 'ZACOARTOTTO', 'MOSSA', 'ADELAIDE', 'PERBOST', 'HUG', 'GOMISHROCZYK', 'GARYTTY', 'EMANUEL', 'HUYH', 'RAPHAEL', 'JACQUES', 'ALEXIS', 'DIMARO', 'LUCAS', 'AMAURY', 'DELCROIX', 'GADIY', 'ROCHE', 'GARON', 'COLOMB', 'LUCIE', 'LOUISA', 'DE RIDDER', 'CHIARA', 'MALIMR', 'DARIN', 'MYTISSOGBE', 'JEANNE', 'ENSO', 'PIFFRG', 'GUILBERT', 'NOUR', 'CARDON', 'ELIOTT', 'MARMONY', 'CERC', 'LEBLOND', 'VALENTIN', 'HUOO', 'MARIE', 'SARAH', 'MARECHAL', 'QUENTIN', 'ALOIS', 'BEKRAOUI', 'CAMILLE', 'MAZUET', 'CLEAENT', 'DACOSTA', 'VICTORIA', 'GAEL', 'OULIXHA', 'MATHILDE', 'ELVINA', 'DESBOIS', 'SUSTINE', 'JULIE', 'AGATHE', 'BERNARDDESAINTIA', 'ENZO', 'BERNARD', 'BAPTISTE', 'BLANCOCIL', 'ALEXIA', 'CHLOE', 'ELMIN', 'MATTEO', 'CLARA', 'BERNIER', 'MOREAU', 'SHAUNA', 'ALYCIA', 'SALVAIRE', 'ESTEVE', 'MOUSSI', 'ADRIEN', 'AMAIS', 'SILOE', 'ARMAND', 'BANCOS', 'YANIS', 'GEORGE', 'ROOSUTLU', 'VICTORINE', 'GRELLIER', 'GAYA', 'DUBESSET', 'HELIN', 'SOUPT', 'BOUDET', 'ZOE', 'BIMAL', 'ROMANE', 'LEANA', 'THANISSIA', 'SIMON', 'LAPALUS', 'JUSTINE', 'GAY', 'LOVIS', 'LISAU', 'PRADALIE- CROS', 'VIRGILI', 'GABIN', ' PIERRE-EMMANYEL', 'AISSAM', 'PAULINE', 'MAIWENN', 'ADELE', 'MATHILDE', 'WATTIEZ', 'TAYAA', 'MUFFATYJEANDET', 'ARNAUD', 'OCEANE', 'GOURY', 'OCEANE', 'PELAN', 'EMMA', 'CARNEY', 'PUECH', 'RAOUL', 'ELODIE', 'AWENA', 'TRMEU', 'CLEMENT', 'GASS', 'CLEMENT', 'NEHAR', 'BEYENS', 'MAXIME', 'SARAH', 'MANON', 'JAVEY EYRA', 'HUYGHE', ' ELEONORE', 'HASSANT', 'AOUCHAR', 'OUKACHE', 'HUGO', 'GUILLEMOTTE', 'NICOLAS', 'JAHIC', 'LE DOZE', 'CHAIN', 'NOAH', 'YANN', 'AMELIA', 'CASTEL', 'RAPHAEL', 'REMY', 'OSCAR', 'PONCETY', 'BERNET', 'MARRE', 'PERIAC', 'REMIN', 'SYLVAIN', 'COSTE', 'HANAE', 'JUSTIN', 'MATTHIEU', 'LOUISE', 'PAULINE', 'BENIZERI', 'VALENTINE', 'KUBIS', 'LE BAIL', 'MURIA', 'ROMAIN', 'ARIGAELLE', 'GERBE', 'TOM', 'FLAGEUL', 'SCHILD', 'AYMAN', 'LEA', 'MICT', 'CLEMENT', 'BINSSC', 'ZOE', 'MARION', 'THOLLAS', 'ABONNET', 'LOUIS', 'ADRIEN', 'JULLIEN', 'BERSET', 'LER', 'RODIN', 'HAMILTONOZE', 'VALENTIN', 'JOSEPHINE', 'MATTEO', 'MARIE', 'ALEXANDRE', 'OSCAR', 'LEILOU', 'ZEN', 'MAICYS', 'MARTIN', 'FREIRE', 'NORA', 'MARIE', 'LISEE', 'ROSALIE', 'VICTOR', 'NICOLAS', 'LECOMTE', 'VIALLA', 'MALFART', 'LEONIE', 'ALEMANY', 'BERTHAULT', 'DIONG', 'GALLETTO', 'CHARLINE', 'ENEKO', 'DIINCAU', 'VICTORIA', 'ROMAIN', ' NARTE', 'QUINTIN', 'ANAIS', 'ANTOINE', 'FRIOUX', 'CHARLIE', 'ZOE', 'MAIWORE', 'DUVERGER', 'VICTOR', 'YOANN', 'DEBARROSMARTIN', 'GERARD', 'MARGAUX', 'ETIENNE', 'AZIZEDETUL', 'JADE', 'LUCILE', 'BOUOUACHMA', 'LISANDRU', 'ITN', 'BAYARD', 'LALIN', 'MICHARD', 'FORGET', 'ARGENCE', 'MOULIN', 'ANDREY', 'BEJAOUI', 'EGLANTINE', 'ADIM', 'MIMOUN', 'MARTIN', 'CANOICE', 'LILAS', 'GONNET', 'MARINE', 'NELL', 'ARMAN', 'ZAAFOURI-AUBER', 'CINKILC', 'YASSINE', 'ADRICH', 'GOUZIEN', 'BOUDJEMAY', 'MADIN', 'SELLAH', 'LOUANE', 'BERTINI', 'ALEXA', 'PERROT', 'LAWNAY', 'ELEA', 'DINA', 'INDOCINA', 'MATYSSE', 'LIETAERT', 'ROBIN', 'PORMEL', 'DUAU', 'CLEOPHEE', 'AURELIE', 'CHRISTYP', 'PALOMA', 'OCEANE', 'BOUGHAL', 'LORIS', 'ELEA', 'CANDYCE', 'MAIA', 'OCEANE', 'CAMILLE', 'DELGADO', 'LELEU', 'DURET', 'ROCH', ' LAURA', 'BLAISE', 'SAVEL', 'INES', 'VMNL', 'SOA', 'VANDERMACO', 'GUILHENSAN', 'CHAIMA', 'DECHEREAU', 'GANDOLA', 'EMOPTT', 'SOUPISSEAU', 'ADOUYT', 'THIERY', 'JACQUET', 'CATELLA', 'MUSTAPHA', 'LEA', 'SAFENINE', 'HADJISTAUROU', 'LENCLUME', 'GALIN', 'EMELY', 'JEAN', 'STOLL', 'VAN-VLIERE', 'CAROI', 'LUGAS', 'PULHUT', 'ALBA SANCA', 'SARA', 'BLANC', 'KEVIN', 'NASSIM', 'DESLANDES', 'ANTOINE', 'LEA', ' AUFFRAY', 'DESPRES', 'DESCAMPS', 'GONDRAN', 'EMMA', 'JEANNE', 'INDRAKUMAK', 'VICTOURE', 'LUC', 'FANNY', 'MAXENCE', 'SERWICLAY', 'MARTIN', 'MAXIM', 'LOMBARD', 'CAMILLE', 'SAINTMARS', 'BILLETTE', 'LILY', 'JONAS', 'TOM', 'MANISSIAN', 'ALEXIANE', 'LEBOURGEOIS', 'NEYELEC', 'ETIENNE', 'HERY', 'FRANCOIS', 'LILOU', 'BAREZ', 'JEANROY', 'IMOUSSET', 'COUDE', 'ROSE', 'PHILIPPOTE', 'BISEGNA', 'LAINAD', 'LOUVION', 'GUILIYNE', 'MAGNIEZ', 'BAILEY', 'RINGO', 'MARIE', 'VERON', 'LUCIE', 'GAUCHET', 'PALMIER', 'DEWKARUN', 'JEANNE', 'SEGRETAIN', 'DESRIVIERE', 'JORDAN', 'LINA', 'MAISONNEUV', 'NOUILLE', 'LEDOUX', 'ROULLE', 'ENOLA', 'GAUTHICR', 'BERAT', 'MAGNIN', 'GUILLAUME', 'TARDU', 'SOUNDOUSSE', 'SOLAL', 'JADE', 'NAEL', 'GARERES', 'NKGOL', 'CHAPLAINI', 'BOULIEC', 'MAELHYA', 'STEPHANIE', 'FRATISSIOR', 'DIOR', 'ABDALAH', 'AUFUTRI', 'NINO', 'GODENEGHE', 'LUCAS', 'CHAYANT', 'LOIC', 'ROBIN', 'MARTIN', 'AURELIEN', 'KOLB', 'HOMO', 'TEMPLEREAU', 'JABBOUR', 'MOLENAT', 'HEURTAUX', 'MAMA', 'CAPUCINE', 'CHALOPIN', 'MANINE', 'MARIE-PEIKSEY', 'ALEXANDRE', 'HELWAM', 'FAVRE', 'PETIT', 'ROY', 'DELATTRE', 'SEVERSON', 'ROMEO', 'SUNG', 'MEON', 'REI', 'NATHAN', 'MAURETTE', 'CHAPUIS', 'BACCOU', 'MANON', 'HANTAYFFEL', 'BOUMETIER', 'EMMA', '', 'TULIUTT', 'YANN', 'LISA', 'BIDART', 'AMELIA', 'VIETTE', 'ELIAZ', 'KHEYI', 'BESSON', 'ROUSSEAU', 'HASSAN-GATEBOIE', 'BAUDOUX', 'BERENICE', 'CHABRILLAT', 'MATTHIEU', 'ROYER', 'LAUKA', 'HERSANT', 'YEHDY', 'FIDON', 'JULPETTE', 'HEIGOURIFF', 'BARRILLICT', 'AATINA', 'YANNIS', 'COLLART', 'AODOKARI', 'VIOLETTE', 'EOUIS', 'ANDREA', 'LANGLAIS', 'JULIEM', 'NAHEL', 'WITHNEY', 'MARIGNIER', 'VALIM', 'TOM', 'MARTIN', 'NADAL', 'DIIFOGGIA', 'LAMIOT', 'MATISSE', 'ADELINE', 'ALEYLDER', 'METZINGER', 'BRICHLER', 'RIVIERE', 'THIBET', 'ALICE', 'CHRISTA -ORE', 'JULIEN', 'MATHIEU--TILLY', 'PENNEC', 'FOURN', 'JOHAN', 'CONNAN', 'PRICRIANC', 'BARDINET', 'FICOT', 'CHARLES', 'BAROUK', 'PAULINE', 'SURREL', 'ADRIEN', 'OULDGOUAIL', 'ELKAHLAOUI', 'THEO', 'VICOLAS', 'BOUREZEM', 'RODOT', 'CRONIER', 'BLUMBERGER', 'MARION', 'VALENTIN', 'LUCAS', 'EVA', 'VIANNEY', 'DUCHEMIN', 'FERNANDEZ', 'DE WITTE', 'DAINAY', 'AHRI', 'AGATHE', 'BLANDINE', 'AXEL', 'LENY', 'MATHIS', 'PIERRE', 'RODIER', 'AYTOM', 'COZZAROLO', 'CLARA', 'GOVOROV', 'GUERINEL', 'ROLLAND', 'BADR', 'NAOO', 'CATHERINE', 'SNTRSARAH', 'MOESSARD', 'LEAL', 'LALONDE', 'AYA', 'OCCONE', 'MAMORA', 'SEBASTIAO', 'THIBAULT', 'RABIA', 'MARIE', 'KADDOUR', 'EUM', 'ELSA', 'CLARA', 'TAOUFIK', 'LASSAN', 'MORGAKE', 'VENAULT', 'NAWPEL', 'TANGUY', 'ZIRN', 'JULES', 'HABBA', 'CLEMENT', 'GNEY', 'BOUTROUX', 'JEANNE', 'MENDES', 'DEMANGE', 'ACHILLE', 'MAXIME', 'ARCHIMBAUT', 'ANATOLE', 'THEO', 'ANTOING', 'BENOIT', 'LUCAS-GEIGE', 'CAILLOT', 'HANNAH', 'SABATIN', 'MATHIS', 'BAPTISTE', 'YASSINE', 'SOULARD', 'BOUCHER', 'GOSQUIERE', 'GRIOT', 'MATHEO', 'CRISTIANO', 'CHARTIER', 'JADAUD', 'FANNY', 'MATHIS', 'ROGEK', 'EDDY', 'OUATMANG', 'CLARA', 'HONORE', 'ALEXANDRE', 'ALICE', 'BLANCHON', 'MORGANE', 'SAMBARDIER', 'MATHIS', ' GABIN', 'THIBAUD', 'CHACHKINE', 'MARILOU', 'CORRE', 'VARLET', 'AURELINE', 'DRNELLA', 'VIAL', 'DE MEYCR', 'MARIE', 'NATHAN', 'STUDNICKI', 'CHEVRIER', 'FAUSTINE', 'GARNIER', 'BERGOGNE', 'OMANE', 'ASMAE', 'MORGANF', 'BOULAOUINAT', 'COQUELIN', 'MARIE', 'REUBEN', 'DARDE', 'JULIE', 'CECILIA', 'PROUDHON', 'GUENOT', 'BENUAMIN', 'SALEEM', 'THEO', 'KAREN', 'RIMY', 'TERRIER', 'GUINARD', 'DPEHOUT', 'FLORA', 'YOUSSELIN', 'SYEN', 'VIANO', 'ALEXANDRE', 'CAMERLO', 'SAM', 'ROMAIN', 'BELLOUATI', 'JULIE', 'LOU', 'MEDHI', 'IVAN', 'GOXE', 'VILLALARD', 'ANTOINE', 'FRANCE', 'ADEL', 'DELLET', 'SEGUINIER', 'PAUL', 'PAULINE', 'MARNAOUT', 'ABDELKRIM', 'MARINE', 'MARILOU', 'ALEXANDRA', 'MATTEO', 'LUCAS', 'LUCIE', 'FRIAISSE', 'DESPLOUS', 'ROXANG', 'QHOC', 'DUFORT', 'MAUDELONDE', 'ALAN', 'AICH', 'VIEILLARD', 'THOMAS', 'CALIXTE', 'GRIMONT', 'NANTOIS T', 'LEAU', 'GIRUD', 'MONTECOT', 'BLOUET', 'MATTEO', 'JOHN', 'MERESSE', 'YP', 'BESNARD', 'DUTEY', 'STEPHAN', 'DEGREMONT', 'LECOURTOIS', 'BSRDETIWIIMEE', 'DALLEAU', 'ARNAUD', 'POUPARD', 'CHIALI', 'PELLICIOLI', 'KEMO', 'ALEXANDRE', 'AURELIEN', 'NOGER', 'MAILLE', 'PICOT', 'MYKIAM', 'MARTIN', 'ANAIS', 'LOUIS', 'TOLEDANO', 'EVE', 'TULES', 'NOUMBISSI', 'NOEMIE', 'RAFFOUX', 'AMIGA', 'BENEZECH', 'LANA', 'CAROLE', 'MARCUS', 'LECHEVALLE', 'TIFFENE', 'RODBY', 'JOHAN', 'NOMMIE', 'NOEMIE', 'PEYRARD', 'MILPUED', 'PAUL', 'GUILLET', 'EYARA', 'JENNY', 'MONTANARO', 'SOPHIE', 'POITEVIN', 'CHLOE', 'TIROUVENGADAME', 'AHAGOUI', 'WCNAMARN', 'KITAPCIYAN', 'LELEU', 'ZOTOKAS', 'ADEL', 'EFE', 'PIERRE', 'ENZO', 'LEMORYAN', 'NICOLAS', 'VIRGOO', 'CCEANE', 'ANNE', 'SARAH', 'BARRILLIET', 'BRYAN', 'COMENTIN', 'CHLOE', 'CARTICR', 'LON', 'LINO', 'THE', 'LFILOU', 'CHAMBON', 'MAHOUI', 'OSCAR', 'ARTHUR', 'ALEXIS', 'ESPENAN', 'GODET', 'MATTEO', 'MATHYS', 'GOZLAN', 'REMIGEREAU', 'TOUFIN', 'CYARA', 'CAYROL', 'LAILA', 'ROBINSON', 'PORCHER', 'GAELLE', 'MANSART', 'COUSSEAU', 'MOTTE', 'OSKAR', 'THEO', 'AMMAR', 'JUC', '', 'ANNAELLE', 'NGARCIA', 'MIGNOT', 'MAELYS', 'ENGUERRAND', 'MAELLE', 'MAXINE', 'MENGUY', 'AMBRINE', 'ADM', 'BERT', 'DUJARDIN', 'ILONA', 'CCLIA', 'NOLANN', 'BOUTET', 'HAMNACHE', 'JAWORSKI', 'OCEANE', 'MATTIS', 'CAMILLE', 'RADDI', 'GONEN', 'WATIT', 'MAXIME', 'DONOUAN', 'MATHILDE', 'ELISA', 'CHEFAI', 'ARTHUR', 'NPORTE', 'MAPHAGL', 'OTEMENDT', 'ALEXANDRE', 'DELENGE', 'MENDES', 'COUE', 'HUGO', 'LEA', 'GAUTHIER', 'LILAS', 'ANGELINA', 'MARION', 'CHARLES', 'GIRARD', 'GOURDY', 'UGO', 'OULA', 'SRANGER', 'CARLA-MARIE', 'ELSA', 'EMILIE', 'LENA', 'BELLOIR', 'JULIETTE', 'MAXENCE', 'CHAUVEAU', 'DIMBAMBA DUVET', 'NGE', 'BAPTISTE', 'GESLIN', 'ELIA', 'PERNOT', 'CAYEUX', 'NACTH', 'SAADDJABALLAH', 'MARCOS-PAOL', 'CLEMENCE', 'ANGELE', 'LOUILLARD', 'FOUDAD', 'MAKY', 'HARTNAGEL', 'TESSIER', 'ELOISE', 'SNANN', 'LAUF', 'GAMA', 'MARGAUX', 'LABLAINE', 'PAGES', 'LEGER', 'HULOT', 'MAYAME', 'BADUA', 'APPOURCHAUX', 'ANAELLE', 'LE SAINT', 'KAILLIE', 'NOA', 'MORLET', 'YAMBROVITCH', 'BARRY', 'BENVAJI', 'GOASGUE', 'FERNANDEZ', 'PNODEL', 'RIVIERG', 'INES', 'PERREL', 'PARIZE', 'NOMDANE', 'YASMINE', 'TON', 'COCHET', 'BERNARDEAU', 'SOLENN', 'AMELIA', 'LOUANNE', 'CULALIE', 'LELEU', 'GABOUKARY', 'RAFFEGEAU', 'THOMAS', 'WEYL', 'LISA', 'BENTODEY', 'ADELE', 'GRADMOTTET', 'CLEMENT', 'MAXENCE', 'MAEL', 'GAUTHIER', 'LOPESAYSIL', 'NOEL', 'THUILLIER', 'DUCROUX', 'MAILLARD', 'CLARA', 'GUILLAUME', 'SIHAM', 'JACQUEMIN', 'SIMON', 'JULIETTE', 'VAWESSE', 'MAXIME', 'MARIE', 'BONHOHME', 'BAILLY', 'SIMONIN', 'HUBERT', 'LE MENN', 'POUVARMEUA', 'WALDREU', 'CHIARA', 'BRAHAMCHA', 'MAMANE', 'BUOTOIS', 'ALYSON', 'DIANGELI', 'GUITTONNEAU', 'RYAN', 'JULIE', 'ELIBOUZIN', 'MAX', 'ALICE', 'COTTIN', 'DE LAMARPE', 'ANGELIQUE', 'WANNEGUE', 'LYON', 'DUBOIS', 'HUSCA', 'SIRY', 'KERGARAVAT', 'JULIETTE', 'MORGANE', 'OCEANE', 'LAUPESNA', 'DUBRUQUE', 'HALIYAH', 'LUCIE', 'VAAST', 'QUENTIN', 'VADIM', 'SADE', 'GUILLERM', 'GHAZARYAN', 'BANENBASSO', 'JULIANA', 'HERAULT', 'LUCIE', 'POUS', 'ETARS', 'CLENENT', 'CHLOE', 'LOUISE', 'NATHAN', 'DEROUSSIN', 'ATO', 'BROUARO', 'MUNO', 'DRUFFIN', 'SEYNAEVE', 'UITTN', 'BACHELIER', 'CHERON', 'DACQUIN', 'MEHMED ALI', 'EVAN', 'GABRIEL', 'TIMOTHE', 'LEMAIRE', 'COURTY', 'FLORIAN', 'VICTOR', 'MATHIAS', 'COLIN', 'ANNA', 'LOU', 'MARYNS', 'ANQUETIL', 'STIVAIETTE', 'KENZO', 'ILIAS', 'LEMAIRE', 'THEO', 'MASCARENHAS FER', 'CLEMENCE', 'FLORA', 'KTORZA', 'FARRIS', 'JOTUT', 'MERCIER', 'BARTHELEMY', 'BASTERAEIX', 'LANNES PORTE', 'THONIN', 'LISA', 'CREQUER', 'LAURA', 'JEANNE', 'LOLA', 'JOAN', 'CANDICE', 'ANTONIN', 'PASQUET', 'SARAH', 'WASTIAUX', 'MAILLOT', 'LMESTUD', 'AUMONT', 'KHATIB', 'CELESTE', ' DELANNEY', 'ENZO', 'CASTEL', 'PEUND', 'MIGNOT', 'INES', 'TRISTAN', 'DOUDRD', 'MORGANE', 'SARAH', 'BOUCON', 'GOIDIN', 'LANDREAU', 'LOLA', 'NZINGA', 'MGROS', 'LEBKIA', 'VOUIS', 'JOURDAN', 'PELLETEY', 'INES', 'LE BRAS', 'MANTEAU', 'FOURNAND', 'THIBAUT', 'ORTIZ', 'HANNE', 'PAULINE', 'CLARA', 'THOMAS', 'DORIAN', 'LOU', 'DINA', 'PORCHER', 'VALENTIN', 'LE GIGAN', 'XIVLIN', 'OPHELIE', 'ARTHUR', 'LOUP', 'BECHERI', 'SARA', 'AXELLE', 'SHUN', 'MAYEN', 'MATHIEV', 'DU', 'ELOYSE', 'LEANA', 'ROLLET', 'TOM', 'VAUTERIN', 'TLAMAUY', 'PLANCOULAI', 'COUSHERT', 'PIERRE', 'DANDURANO', 'JASMINE', 'DOUIA', 'SOKAHINA', 'NOA', 'BELLAYERI', 'INES', 'HEDDE', 'DGUILLAUD', 'THIEBAUT', 'PIQUFNOT', 'LEANE', 'NOMEDE-MARTYR', 'HEMARICKX', 'OZANNE', 'GOMES MARACO', 'DURAND', 'VALENTINE', 'DAVID', 'INESS', 'BAPTISTE', 'OUMATMA', 'CARLA', 'HERWANDEZ', 'THIBAUT', 'GREGOIRE', 'ME', 'LYSTANA', 'PERSON', 'ADAM', 'PERRET', 'LGROST', 'TONNEAU', 'SIBERT', 'CREN', 'LUCAS', 'ARNAL', 'QUINTARD', 'INES', 'MASTAIN', 'BOSSY', 'HAKIM', 'AVAKIAN', 'SERPATY', 'BOURGOUIN', 'BRENNETOT', 'INES', 'PERROT DU VE', 'MONNET', 'JEAN PASCAL', 'VIRGILE', 'TANGUY', 'BUISSET', 'HUGO', 'MAEVA', 'FANNY', 'MAITNPEU', 'ANDRES', 'ELOISE', 'ANDREA', 'JOURDIN', 'ANTHONY', 'BACHIR', 'RABUEL', 'ROMAIN', 'JEANNE', 'KOWALCZYK', 'GERPI', 'MATHILDF', 'CHEKARABOAOS', 'GIRVAIS', 'CELIAN', 'LEON', 'LOUIS', 'KARTES', 'GOMILN', 'BEAUCOUSIE', 'MATHATI', 'BALLOT', 'TITOUAN', 'MAEL', 'ERGURT', 'BRIGANT', 'NINA', 'PERRAUD', 'TONT', 'CORENTIN', 'LOUIS', 'ALICIA', 'FLEURANGE', 'BUNEL', 'PIERRG-ALEXAND', 'ERNEST', 'MAXENCE', 'NATAF', 'MAGEUX', 'DION', 'LAURIANE', 'PITULT', 'GALINTER', 'FADIEN', 'EMMIE', 'COYTES', 'MAGALHAES', 'LILIA', 'DEFRETIN', 'DE MONTHORILLORE', 'MEYER-BERANNE', 'ILONA', 'EVAN', 'DAVID', 'BOUBESSLA', 'THEU', 'REMI', 'MARGNUV', 'KENZA', 'MAILYS', 'BENEDICTE', 'NPURSTOSS', 'REMI', 'DIANE', 'CAMILLE', 'HUGO', 'VADEL', 'ELODIE', 'MAI', 'BENZAIT', 'ALEXIS', 'COLEEN', 'KYLIAN', 'SAIGNAT', 'VALENTIN', 'MAXIME', 'AMAT', 'MENDY', 'ALEVIS', 'NICOLAS-DEMBA', 'VANIBEEK', 'YANIS', 'CLAYETTE', 'MARINIER', 'PIERRE', 'DRBAB', 'DEVEDEUX', 'TUGBA', 'ANAYS', 'SAGALA', 'ALEXIS', 'MATHILGE', 'LONGEIN', 'ALBIER', 'NILO', 'SARREY', 'SAVANNAH', 'ROTTEGA', 'AHAHED', 'PEYLET', 'MOISAN', 'GABIN', 'PAGATHE', 'LEHOINE', 'GAUDIN', 'DEMEUX', 'JULIE', 'BECMONT', 'NELAN', 'DURAND', 'NATHAN', 'ZOE', 'ROMAIN', 'MAGASSA', 'HELOIS', 'ALEXANDER', 'OZON', 'WETHEN', 'LAMBERT', 'OUBELLIL', 'SWANN', 'GLOPFREY', 'VITO', 'BARBOT', 'CHLOE', 'OUTEIV MRA', 'SIMON', 'NOAH', 'TAURUS', 'SEBASTIEN', 'ANTHOUARD', 'GERENY', 'SITAHAR', 'EMILIE', 'KHAN', 'CROIY', 'MATY', 'SOULIER', 'HUTTE', 'VALERAN', 'NATHAN', 'NICOLAS', 'GAUTIEN', 'CLARA', 'VALAYC', 'PLANO', 'HEUILLET', 'ORANNE', 'LEOUARO', 'JUSTINE', 'EMMA', 'ENOLA', 'BLANC', 'POROS', 'EMMA', 'AMELINEAU', 'ZEPHIRIN', 'SULLIVAN', 'MATHIEV', 'VOISIN', 'MALVY', 'MIRYAM', 'PIERRE', 'GIRARD', 'GREGORY', 'DEAMBROSIE', 'MUSSET', 'CHARLOTTE', 'RIEU', 'MARGAUX', 'YANIS', 'MELINA', 'BOISSINOT', 'CHENU', 'MEUROU', 'BOUZIANE', 'DRILLET', 'KENZA', 'COMINELLI', 'CLOCHARD', 'ERWAN', 'HERNANDEZ', 'TERRENCE', 'AMBRE', 'ANGEL', 'LEFRRANCOT', 'JACINTHE', 'NGILON', 'ANAE', 'PERRET', 'LEELOU', 'EVAN', 'LUCIE', 'AGUENTES', 'SUNTIC', 'ANTOINE', 'ARTHUR', 'MOUTAWAKIL-DIZ', 'KENZO', 'AMANDA', 'MARIUS', 'PEIGNEY', 'MELISSA', 'MATHLLDE', 'SARAH', 'KEN', 'DYAN', 'ONY', 'BROSSAT', 'JOHOVANA', 'EMBRIACO', 'MATHILDE', 'HERGAULT', 'THIBAUT', 'BURG', 'MARIE', 'THOMAS', 'QUEMIN', 'BOURREAU', 'SSELVINI', 'AADORA', 'LAGATI', 'BONNEFOND', 'HOU', 'TACHET', 'BRUNEL', 'LISA', 'MARTIN', 'LOLA', 'MAUPRIVEZ', 'LOUANNE', 'GUINNEPAIN', 'MOINARD', 'ROL', 'CONTRERAS', 'ROMANE', 'WILLING', 'YAMMIS', 'ALEXANDRE', 'ASLANE', 'GAELLE', 'DIONNET', 'LYXOUAN', 'ARELSONC', 'STHOMAS', 'CIMPER', 'QUENTIN', 'STEINBACH', 'ENNA', 'VALENTINE', 'NBRICOUT', 'BRENDA', 'THEMYS', 'JEUNESSE', 'CISSE', 'SOUSA', 'DA SILVA', 'ANTOINE', 'RAHIMIRAD', 'HANNOUN', 'ANIA', 'HELODJE', 'GOLOMANN', 'TURLURE', 'AGATHE', 'CONNET']\n"
          ]
        }
      ]
    },
    {
      "cell_type": "code",
      "source": [
        "# Checking Accuracy of the Model\n",
        "y_true = valid.loc[0:valid_size, 'IDENTITY']\n",
        "correct_char = 0\n",
        "total_char = 0\n",
        "correct = 0\n",
        "\n",
        "for i in range(valid_size):\n",
        "    pr = prediction[i]\n",
        "    tr = y_true[i]\n",
        "    total_char += len(tr)\n",
        "\n",
        "    for j in range(min(len(tr), len(pr))):\n",
        "        if tr[j] == pr[j]:\n",
        "            correct_char += 1\n",
        "\n",
        "    if pr == tr :\n",
        "        correct += 1\n",
        "\n",
        "\n",
        "print('Correct characters predicted : %.2f%%' %(correct_char*100/total_char))\n",
        "print('Correct words predicted      : %.2f%%' %(correct*100/valid_size))"
      ],
      "metadata": {
        "execution": {
          "iopub.status.busy": "2024-04-06T07:02:08.269606Z",
          "iopub.execute_input": "2024-04-06T07:02:08.270392Z",
          "iopub.status.idle": "2024-04-06T07:02:08.29712Z",
          "shell.execute_reply.started": "2024-04-06T07:02:08.270341Z",
          "shell.execute_reply": "2024-04-06T07:02:08.295746Z"
        },
        "trusted": true,
        "id": "4Wc32eiBdpkZ",
        "outputId": "f8334617-d37e-48c2-8a32-eac2c1e114e0",
        "colab": {
          "base_uri": "https://localhost:8080/"
        }
      },
      "execution_count": null,
      "outputs": [
        {
          "output_type": "stream",
          "name": "stdout",
          "text": [
            "Correct characters predicted : 89.94%\n",
            "Correct words predicted      : 73.67%\n"
          ]
        }
      ]
    },
    {
      "cell_type": "markdown",
      "source": [
        "## Some predictions on test set"
      ],
      "metadata": {
        "id": "gI_xTdzFdpkZ"
      }
    },
    {
      "cell_type": "code",
      "source": [
        "# Predidctions on basis of Test Data\n",
        "test = pd.read_csv('/kaggle/input/handwriting-recognition/written_name_test_v2.csv')\n",
        "\n",
        "plt.figure(figsize=(15, 10))\n",
        "for i in range(6):\n",
        "    ax = plt.subplot(2, 3, i+1)\n",
        "    img_dir = '/kaggle/input/handwriting-recognition/test_v2/test/'+test.loc[i, 'FILENAME']\n",
        "    image = cv2.imread(img_dir, cv2.IMREAD_GRAYSCALE)\n",
        "    plt.imshow(image, cmap='gray')\n",
        "\n",
        "    image = preprocess(image)\n",
        "    image = image/255.\n",
        "    pred = model.predict(image.reshape(1, 256, 64, 1))\n",
        "    decoded = K.get_value(K.ctc_decode(pred, input_length=np.ones(pred.shape[0])*pred.shape[1],\n",
        "                                       greedy=True)[0][0])\n",
        "    plt.title(num_to_label(decoded[0]), fontsize=12)\n",
        "    plt.axis('off')\n",
        "\n",
        "plt.subplots_adjust(wspace=0.2, hspace=-0.8)"
      ],
      "metadata": {
        "execution": {
          "iopub.status.busy": "2024-04-06T01:50:42.361535Z",
          "iopub.status.idle": "2024-04-06T01:50:42.36204Z"
        },
        "trusted": true,
        "id": "EVrfAESCdpkZ",
        "colab": {
          "base_uri": "https://localhost:8080/",
          "height": 236
        },
        "outputId": "b91f2497-d092-40d2-bd30-9bf52b049a9c"
      },
      "execution_count": null,
      "outputs": [
        {
          "output_type": "stream",
          "name": "stdout",
          "text": [
            "1/1 [==============================] - 0s 48ms/step\n",
            "1/1 [==============================] - 0s 46ms/step\n",
            "1/1 [==============================] - 0s 47ms/step\n",
            "1/1 [==============================] - 0s 47ms/step\n",
            "1/1 [==============================] - 0s 48ms/step\n",
            "1/1 [==============================] - 0s 46ms/step\n"
          ]
        },
        {
          "output_type": "display_data",
          "data": {
            "text/plain": [
              "<Figure size 1500x1000 with 6 Axes>"
            ],
            "image/png": "[encoded data removed]"
          },
          "metadata": {}
        }
      ]
    },
    {
      "cell_type": "code",
      "source": [
        "# Prediction based on Uploaded Data\n",
        "ax = plt.subplot(2, 3, i+1)\n",
        "img_dir = '/content/Hey77732.png'\n",
        "image = cv2.imread(img_dir, cv2.IMREAD_GRAYSCALE)\n",
        "plt.imshow(image, cmap='gray')\n",
        "\n",
        "image = preprocess(image)\n",
        "image = image/255.\n",
        "pred = model.predict(image.reshape(1, 256, 64, 1))\n",
        "decoded = K.get_value(K.ctc_decode(pred, input_length=np.ones(pred.shape[0])*pred.shape[1],\n",
        "                                    greedy=True)[0][0])\n",
        "plt.title(num_to_label(decoded[0]), fontsize=12)\n",
        "plt.axis('off')\n",
        "\n",
        "plt.subplots_adjust(wspace=0.2, hspace=-0.8)"
      ],
      "metadata": {
        "colab": {
          "base_uri": "https://localhost:8080/",
          "height": 120
        },
        "id": "dahmSGe5CQK7",
        "outputId": "8ad6a970-dcd8-4636-d35c-25e5c19e464e"
      },
      "execution_count": null,
      "outputs": [
        {
          "output_type": "stream",
          "name": "stdout",
          "text": [
            "1/1 [==============================] - 0s 50ms/step\n"
          ]
        },
        {
          "output_type": "display_data",
          "data": {
            "text/plain": [
              "<Figure size 640x480 with 1 Axes>"
            ],
            "image/png": "[encoded data removed]"
          },
          "metadata": {}
        }
      ]
    },
    {
      "cell_type": "markdown",
      "source": [
        "## Ways to improve the model\n",
        "\n",
        "* Use more training samples. This will help the model to learn and generalise better. I have used only 10% of the images as the entire training set cannot be loaded into kaggle's memory.\n",
        "* There are multiple images in the training set which are not at all legible to the human eye. Removing such images will help in model's learning."
      ],
      "metadata": {
        "id": "7saqqmg7dpkZ"
      }
    },
    {
      "cell_type": "markdown",
      "source": [],
      "metadata": {
        "id": "uU1Xhzv2EwXj"
      }
    }
  ]
}